{
 "cells": [
  {
   "cell_type": "markdown",
   "id": "0ff1014c",
   "metadata": {},
   "source": [
    "## 1) set config to be able to install packages"
   ]
  },
  {
   "cell_type": "code",
   "execution_count": 1,
   "id": "92073239",
   "metadata": {},
   "outputs": [
    {
     "data": {
      "text/html": [
       "Current session configs: <tt>{'conf': {'spark.pyspark.python': 'python3', 'spark.pyspark.virtualenv.enabled': 'true', 'spark.pyspark.virtualenv.type': 'native', 'spark.pyspark.virtualenv.bin.path': '/usr/bin/virtualenv'}, 'proxyUser': 'jovyan', 'kind': 'pyspark'}</tt><br>"
      ],
      "text/plain": [
       "<IPython.core.display.HTML object>"
      ]
     },
     "metadata": {},
     "output_type": "display_data"
    },
    {
     "data": {
      "text/html": [
       "No active sessions."
      ],
      "text/plain": [
       "<IPython.core.display.HTML object>"
      ]
     },
     "metadata": {},
     "output_type": "display_data"
    }
   ],
   "source": [
    "%%configure -f\n",
    "{\n",
    "    \"conf\": {\n",
    "        \"spark.pyspark.python\": \"python3\",\n",
    "        \"spark.pyspark.virtualenv.enabled\": \"true\",\n",
    "        \"spark.pyspark.virtualenv.type\":\"native\",\n",
    "        \"spark.pyspark.virtualenv.bin.path\":\"/usr/bin/virtualenv\"\n",
    "    }\n",
    "}"
   ]
  },
  {
   "cell_type": "code",
   "execution_count": 2,
   "id": "8a2fc4a5",
   "metadata": {},
   "outputs": [
    {
     "name": "stdout",
     "output_type": "stream",
     "text": [
      "Starting Spark application\n"
     ]
    },
    {
     "data": {
      "text/html": [
       "<table>\n",
       "<tr><th>ID</th><th>YARN Application ID</th><th>Kind</th><th>State</th><th>Spark UI</th><th>Driver log</th><th>User</th><th>Current session?</th></tr><tr><td>0</td><td>application_1646053228230_0002</td><td>pyspark</td><td>idle</td><td><a target=\"_blank\" href=\"http://ip-10-0-90-171.eu-central-1.compute.internal:20888/proxy/application_1646053228230_0002/\">Link</a></td><td><a target=\"_blank\" href=\"http://ip-10-0-81-15.eu-central-1.compute.internal:8042/node/containerlogs/container_1646053228230_0002_01_000001/livy\">Link</a></td><td>None</td><td>✔</td></tr></table>"
      ],
      "text/plain": [
       "<IPython.core.display.HTML object>"
      ]
     },
     "metadata": {},
     "output_type": "display_data"
    },
    {
     "data": {
      "application/vnd.jupyter.widget-view+json": {
       "model_id": "",
       "version_major": 2,
       "version_minor": 0
      },
      "text/plain": [
       "FloatProgress(value=0.0, bar_style='info', description='Progress:', layout=Layout(height='25px', width='50%'),…"
      ]
     },
     "metadata": {},
     "output_type": "display_data"
    },
    {
     "name": "stdout",
     "output_type": "stream",
     "text": [
      "SparkSession available as 'spark'.\n"
     ]
    },
    {
     "data": {
      "application/vnd.jupyter.widget-view+json": {
       "model_id": "",
       "version_major": 2,
       "version_minor": 0
      },
      "text/plain": [
       "FloatProgress(value=0.0, bar_style='info', description='Progress:', layout=Layout(height='25px', width='50%'),…"
      ]
     },
     "metadata": {},
     "output_type": "display_data"
    }
   ],
   "source": [
    "from py4j.java_gateway import java_import"
   ]
  },
  {
   "cell_type": "markdown",
   "id": "274ff326",
   "metadata": {},
   "source": [
    "## 2) install the needed package"
   ]
  },
  {
   "cell_type": "code",
   "execution_count": 3,
   "id": "b0ead36a",
   "metadata": {},
   "outputs": [
    {
     "data": {
      "application/vnd.jupyter.widget-view+json": {
       "model_id": "",
       "version_major": 2,
       "version_minor": 0
      },
      "text/plain": [
       "FloatProgress(value=0.0, bar_style='info', description='Progress:', layout=Layout(height='25px', width='50%'),…"
      ]
     },
     "metadata": {},
     "output_type": "display_data"
    },
    {
     "name": "stdout",
     "output_type": "stream",
     "text": [
      "Collecting boto3\n",
      "  Downloading https://files.pythonhosted.org/packages/ba/bc/f9444548b504be4236e45bc4b1b82001261862435de8f02e98f44970d9e8/boto3-1.21.8-py3-none-any.whl (132kB)\n",
      "Collecting s3transfer<0.6.0,>=0.5.0 (from boto3)\n",
      "  Downloading https://files.pythonhosted.org/packages/7b/9c/f51775ebe7df5a7aa4e7c79ed671bde94e154bd968aca8d65bb24aba0c8c/s3transfer-0.5.2-py3-none-any.whl (79kB)\n",
      "Requirement already satisfied: jmespath<1.0.0,>=0.7.1 in /usr/local/lib/python3.7/site-packages (from boto3)\n",
      "Collecting botocore<1.25.0,>=1.24.8 (from boto3)\n",
      "  Downloading https://files.pythonhosted.org/packages/ae/e6/f841946cf32a862ddfa0a6de1114339033b1f34a6f94d2cb868ab68a96f0/botocore-1.24.8-py3-none-any.whl (8.6MB)\n",
      "Collecting urllib3<1.27,>=1.25.4 (from botocore<1.25.0,>=1.24.8->boto3)\n",
      "  Downloading https://files.pythonhosted.org/packages/4e/b8/f5a25b22e803f0578e668daa33ba3701bb37858ec80e08a150bd7d2cf1b1/urllib3-1.26.8-py2.py3-none-any.whl (138kB)\n",
      "Collecting python-dateutil<3.0.0,>=2.1 (from botocore<1.25.0,>=1.24.8->boto3)\n",
      "  Downloading https://files.pythonhosted.org/packages/36/7a/87837f39d0296e723bb9b62bbb257d0355c7f6128853c78955f57342a56d/python_dateutil-2.8.2-py2.py3-none-any.whl (247kB)\n",
      "Requirement already satisfied: six>=1.5 in /usr/local/lib/python3.7/site-packages (from python-dateutil<3.0.0,>=2.1->botocore<1.25.0,>=1.24.8->boto3)\n",
      "Installing collected packages: urllib3, python-dateutil, botocore, s3transfer, boto3\n",
      "Successfully installed boto3-1.21.8 botocore-1.24.8 python-dateutil-2.8.2 s3transfer-0.5.2 urllib3-1.26.8\n",
      "\n",
      "You are using pip version 9.0.1, however version 22.0.3 is available.\n",
      "You should consider upgrading via the 'pip install --upgrade pip' command."
     ]
    }
   ],
   "source": [
    "sc.install_pypi_package(\"boto3\")"
   ]
  },
  {
   "cell_type": "code",
   "execution_count": 4,
   "id": "deda7829",
   "metadata": {},
   "outputs": [
    {
     "data": {
      "application/vnd.jupyter.widget-view+json": {
       "model_id": "",
       "version_major": 2,
       "version_minor": 0
      },
      "text/plain": [
       "FloatProgress(value=0.0, bar_style='info', description='Progress:', layout=Layout(height='25px', width='50%'),…"
      ]
     },
     "metadata": {},
     "output_type": "display_data"
    }
   ],
   "source": [
    "# Disable auto broadcasting to avoid a BroadcastHashJoin and a BroadcastExchange\n",
    "spark.conf.set(\"spark.sql.autoBroadcastJoinThreshold\", -1)"
   ]
  },
  {
   "cell_type": "markdown",
   "id": "ff559637",
   "metadata": {},
   "source": [
    "## 3) import the installed packages"
   ]
  },
  {
   "cell_type": "code",
   "execution_count": 5,
   "id": "50ca6839",
   "metadata": {},
   "outputs": [
    {
     "data": {
      "application/vnd.jupyter.widget-view+json": {
       "model_id": "",
       "version_major": 2,
       "version_minor": 0
      },
      "text/plain": [
       "FloatProgress(value=0.0, bar_style='info', description='Progress:', layout=Layout(height='25px', width='50%'),…"
      ]
     },
     "metadata": {},
     "output_type": "display_data"
    }
   ],
   "source": [
    "import boto3\n",
    "from pyspark.sql.functions import *\n",
    "java_import(spark._sc._jvm, \"org.apache.spark.sql.api.python.*\")"
   ]
  },
  {
   "cell_type": "markdown",
   "id": "5809edcc",
   "metadata": {},
   "source": [
    "## 4) Data Exploration"
   ]
  },
  {
   "cell_type": "markdown",
   "id": "5f8dbab8",
   "metadata": {},
   "source": [
    "### a) Read non-bucketed tables from parquet file"
   ]
  },
  {
   "cell_type": "code",
   "execution_count": 6,
   "id": "bc42d7e0",
   "metadata": {},
   "outputs": [
    {
     "data": {
      "application/vnd.jupyter.widget-view+json": {
       "model_id": "",
       "version_major": 2,
       "version_minor": 0
      },
      "text/plain": [
       "FloatProgress(value=0.0, bar_style='info', description='Progress:', layout=Layout(height='25px', width='50%'),…"
      ]
     },
     "metadata": {},
     "output_type": "display_data"
    }
   ],
   "source": [
    "# The result of loading a parquet file is also a DataFrame.\n",
    "fact_dk_earnings_original = spark.read.parquet(\"s3://die-stg-733963962829-eu-central-1/linh_thesis/fact_dk_earnings\")\n",
    "fact_leadouts_original = spark.read.parquet(\"s3://die-stg-733963962829-eu-central-1/linh_thesis/fact_leadouts\")"
   ]
  },
  {
   "cell_type": "code",
   "execution_count": 7,
   "id": "f3fea064",
   "metadata": {},
   "outputs": [
    {
     "data": {
      "application/vnd.jupyter.widget-view+json": {
       "model_id": "",
       "version_major": 2,
       "version_minor": 0
      },
      "text/plain": [
       "FloatProgress(value=0.0, bar_style='info', description='Progress:', layout=Layout(height='25px', width='50%'),…"
      ]
     },
     "metadata": {},
     "output_type": "display_data"
    }
   ],
   "source": [
    "fact_leadouts_original.createOrReplaceTempView(\"fact_leadouts_original\")\n",
    "fact_dk_earnings_original.createOrReplaceTempView(\"fact_dk_earnings_original\")"
   ]
  },
  {
   "cell_type": "markdown",
   "id": "43fe3a5b",
   "metadata": {},
   "source": [
    "### b) Read data from spark Catalog"
   ]
  },
  {
   "cell_type": "code",
   "execution_count": 8,
   "id": "2a4b0634",
   "metadata": {},
   "outputs": [
    {
     "data": {
      "application/vnd.jupyter.widget-view+json": {
       "model_id": "",
       "version_major": 2,
       "version_minor": 0
      },
      "text/plain": [
       "FloatProgress(value=0.0, bar_style='info', description='Progress:', layout=Layout(height='25px', width='50%'),…"
      ]
     },
     "metadata": {},
     "output_type": "display_data"
    },
    {
     "name": "stdout",
     "output_type": "stream",
     "text": [
      "[Table(name='bot_lookup', database='default', description=None, tableType='EXTERNAL', isTemporary=False), Table(name='bucketed_fact_dk_earnings', database='default', description=None, tableType='EXTERNAL', isTemporary=False), Table(name='bucketed_fact_leadouts', database='default', description=None, tableType='EXTERNAL', isTemporary=False), Table(name='bucketed_fact_leadouts_5_buckets', database='default', description=None, tableType='EXTERNAL', isTemporary=False), Table(name='bucketed_fact_leadouts_msid', database='default', description=None, tableType='EXTERNAL', isTemporary=False), Table(name='collect_traces', database='default', description=None, tableType='EXTERNAL', isTemporary=False), Table(name='die_hudi_isg_ro', database='default', description=None, tableType='EXTERNAL', isTemporary=False), Table(name='die_hudi_isg_rt', database='default', description=None, tableType='EXTERNAL', isTemporary=False), Table(name='die_hudi_tut', database='default', description=None, tableType='EXTERNAL', isTemporary=False), Table(name='die_hudi_tut_ro', database='default', description=None, tableType='EXTERNAL', isTemporary=False), Table(name='die_hudi_tut_rt', database='default', description=None, tableType='EXTERNAL', isTemporary=False), Table(name='fact_cpo_earnings', database='default', description=None, tableType='EXTERNAL', isTemporary=False), Table(name='fact_cpo_earnings_uni', database='default', description=None, tableType='EXTERNAL', isTemporary=False), Table(name='fact_leadins_dwh6372', database='default', description=None, tableType='EXTERNAL', isTemporary=False), Table(name='hybrid_isg', database='default', description=None, tableType='EXTERNAL', isTemporary=False), Table(name='isg', database='default', description=None, tableType='EXTERNAL', isTemporary=False), Table(name='isg_prepared_traces', database='default', description=None, tableType='EXTERNAL', isTemporary=False), Table(name='isg_refined', database='default', description=None, tableType='EXTERNAL', isTemporary=False), Table(name='lookup_bot_detection', database='default', description=None, tableType='EXTERNAL', isTemporary=False), Table(name='partition_name_app_botch', database='default', description=None, tableType='EXTERNAL', isTemporary=False), Table(name='partition_name_app_data', database='default', description=None, tableType='EXTERNAL', isTemporary=False), Table(name='partition_name_dk_prop_product_page_impression', database='default', description=None, tableType='EXTERNAL', isTemporary=False), Table(name='partition_name_offerpage_cluster_v2', database='default', description=None, tableType='EXTERNAL', isTemporary=False), Table(name='partition_name_offerpage_offer_page_v2', database='default', description=None, tableType='EXTERNAL', isTemporary=False), Table(name='traces', database='default', description=None, tableType='EXTERNAL', isTemporary=False), Table(name='fact_dk_earnings_original', database=None, description=None, tableType='TEMPORARY', isTemporary=True), Table(name='fact_leadouts_original', database=None, description=None, tableType='TEMPORARY', isTemporary=True)]"
     ]
    }
   ],
   "source": [
    "spark.catalog.listTables()"
   ]
  },
  {
   "cell_type": "markdown",
   "id": "7d61ee18",
   "metadata": {},
   "source": [
    "#### The result of the line above contains other tables of idealo in the Spark catalog as well. The important information is: \n",
    "\n",
    "Table(name='fact_leadouts_original', database=None, description=None, tableType='TEMPORARY', isTemporary=True)\n",
    "\n",
    "Table(name='fact_dk_earnings_original', database=None, description=None, tableType='TEMPORARY', isTemporary=True)\n",
    "\n",
    "Table(name='bucketed_fact_leadouts', database='default', description=None, tableType='EXTERNAL', isTemporary=False)\n",
    "\n",
    "Table(name='bucketed_fact_dk_earnings', database='default', description=None, tableType='EXTERNAL', isTemporary=False)\n",
    "\n",
    "Table(name='bucketed_fact_leadouts_5_buckets', database='default', description=None, tableType='EXTERNAL', isTemporary=False)\n",
    "\n",
    "Table(name='bucketed_fact_leadouts_msid', database='default', description=None, tableType='EXTERNAL', isTemporary=False)"
   ]
  },
  {
   "cell_type": "code",
   "execution_count": 9,
   "id": "88b97ac7",
   "metadata": {},
   "outputs": [
    {
     "data": {
      "application/vnd.jupyter.widget-view+json": {
       "model_id": "",
       "version_major": 2,
       "version_minor": 0
      },
      "text/plain": [
       "FloatProgress(value=0.0, bar_style='info', description='Progress:', layout=Layout(height='25px', width='50%'),…"
      ]
     },
     "metadata": {},
     "output_type": "display_data"
    },
    {
     "name": "stdout",
     "output_type": "stream",
     "text": [
      "+------------------------------+-------------------------------------------------------------------------+-------+\n",
      "|col_name                      |data_type                                                                |comment|\n",
      "+------------------------------+-------------------------------------------------------------------------+-------+\n",
      "|main_session_id               |bigint                                                                   |null   |\n",
      "|session_id                    |string                                                                   |null   |\n",
      "|cookie_value                  |string                                                                   |null   |\n",
      "|category_id                   |string                                                                   |null   |\n",
      "|product_id                    |string                                                                   |null   |\n",
      "|category_path_ids             |array<string>                                                            |null   |\n",
      "|media                         |string                                                                   |null   |\n",
      "|site                          |string                                                                   |null   |\n",
      "|site_type                     |string                                                                   |null   |\n",
      "|country                       |string                                                                   |null   |\n",
      "|brand                         |string                                                                   |null   |\n",
      "|device                        |string                                                                   |null   |\n",
      "|os                            |string                                                                   |null   |\n",
      "|device_type                   |string                                                                   |null   |\n",
      "|browser                       |string                                                                   |null   |\n",
      "|is_logged_in                  |int                                                                      |null   |\n",
      "|mobile_app_id_hashed          |string                                                                   |null   |\n",
      "|mobile_app_id_secondary_hashed|string                                                                   |null   |\n",
      "|mobile_app_user_id_hashed     |string                                                                   |null   |\n",
      "|trace_time                    |bigint                                                                   |null   |\n",
      "|trace_timestamp               |timestamp                                                                |null   |\n",
      "|revisit_session_id            |bigint                                                                   |null   |\n",
      "|leadout_click_bokey           |string                                                                   |null   |\n",
      "|leadout_click_position        |string                                                                   |null   |\n",
      "|leadout_price                 |string                                                                   |null   |\n",
      "|leadout_type                  |string                                                                   |null   |\n",
      "|leadout_offer_id              |string                                                                   |null   |\n",
      "|leadout_offer_key             |string                                                                   |null   |\n",
      "|leadout_affiliate             |string                                                                   |null   |\n",
      "|merchant_id                   |string                                                                   |null   |\n",
      "|mobile_app_version            |string                                                                   |null   |\n",
      "|product_type                  |string                                                                   |null   |\n",
      "|tests                         |array<struct<name:string,variant:string>>                                |null   |\n",
      "|leadout_provider              |string                                                                   |null   |\n",
      "|utm_campaign                  |string                                                                   |null   |\n",
      "|utm_content                   |string                                                                   |null   |\n",
      "|utm_medium                    |string                                                                   |null   |\n",
      "|utm_source                    |string                                                                   |null   |\n",
      "|utm_term                      |string                                                                   |null   |\n",
      "|url_subdomain                 |string                                                                   |null   |\n",
      "|url_apexdomain                |string                                                                   |null   |\n",
      "|url_paths                     |array<string>                                                            |null   |\n",
      "|url_parameters                |map<string,string>                                                       |null   |\n",
      "|http_referer_subdomain        |string                                                                   |null   |\n",
      "|http_referer_apexdomain       |string                                                                   |null   |\n",
      "|http_referer_paths            |array<string>                                                            |null   |\n",
      "|http_referer_parameters       |map<string,string>                                                       |null   |\n",
      "|triggered_by                  |string                                                                   |null   |\n",
      "|shop_id                       |string                                                                   |null   |\n",
      "|date_utc                      |date                                                                     |null   |\n",
      "|hour                          |int                                                                      |null   |\n",
      "|# Partition Information       |                                                                         |       |\n",
      "|# col_name                    |data_type                                                                |comment|\n",
      "|date_utc                      |date                                                                     |null   |\n",
      "|hour                          |int                                                                      |null   |\n",
      "|                              |                                                                         |       |\n",
      "|# Detailed Table Information  |                                                                         |       |\n",
      "|Database                      |default                                                                  |       |\n",
      "|Table                         |bucketed_fact_leadouts                                                   |       |\n",
      "|Owner                         |hadoop                                                                   |       |\n",
      "|Created Time                  |Sat Feb 26 15:21:00 UTC 2022                                             |       |\n",
      "|Last Access                   |UNKNOWN                                                                  |       |\n",
      "|Created By                    |Spark 3.1.2-amzn-0                                                       |       |\n",
      "|Type                          |EXTERNAL                                                                 |       |\n",
      "|Provider                      |parquet                                                                  |       |\n",
      "|Num Buckets                   |4                                                                        |       |\n",
      "|Bucket Columns                |[`cookie_value`]                                                         |       |\n",
      "|Sort Columns                  |[`cookie_value`]                                                         |       |\n",
      "|Location                      |s3://die-stg-733963962829-eu-central-1/linh_thesis/bucketed_fact_leadouts|       |\n",
      "|Serde Library                 |org.apache.hadoop.hive.ql.io.parquet.serde.ParquetHiveSerDe              |       |\n",
      "|InputFormat                   |org.apache.hadoop.hive.ql.io.parquet.MapredParquetInputFormat            |       |\n",
      "|OutputFormat                  |org.apache.hadoop.hive.ql.io.parquet.MapredParquetOutputFormat           |       |\n",
      "|Storage Properties            |[compression=snappy]                                                     |       |\n",
      "|Partition Provider            |Catalog                                                                  |       |\n",
      "+------------------------------+-------------------------------------------------------------------------+-------+"
     ]
    }
   ],
   "source": [
    "spark.sql(\"DESCRIBE TABLE EXTENDED bucketed_fact_leadouts\").show(n=100, truncate=False)"
   ]
  },
  {
   "cell_type": "code",
   "execution_count": 10,
   "id": "9ac33cd0",
   "metadata": {},
   "outputs": [
    {
     "data": {
      "application/vnd.jupyter.widget-view+json": {
       "model_id": "",
       "version_major": 2,
       "version_minor": 0
      },
      "text/plain": [
       "FloatProgress(value=0.0, bar_style='info', description='Progress:', layout=Layout(height='25px', width='50%'),…"
      ]
     },
     "metadata": {},
     "output_type": "display_data"
    },
    {
     "name": "stdout",
     "output_type": "stream",
     "text": [
      "+------------------------------+----------------------------------------------------------------------------+-------+\n",
      "|col_name                      |data_type                                                                   |comment|\n",
      "+------------------------------+----------------------------------------------------------------------------+-------+\n",
      "|shop_id                       |string                                                                      |null   |\n",
      "|category_id                   |string                                                                      |null   |\n",
      "|category_path_ids             |int                                                                         |null   |\n",
      "|order_hash_id                 |string                                                                      |null   |\n",
      "|revenue                       |double                                                                      |null   |\n",
      "|quantity                      |bigint                                                                      |null   |\n",
      "|status                        |string                                                                      |null   |\n",
      "|order_timestamp               |timestamp                                                                   |null   |\n",
      "|main_session_id               |bigint                                                                      |null   |\n",
      "|session_id                    |string                                                                      |null   |\n",
      "|cookie_value                  |string                                                                      |null   |\n",
      "|product_id                    |string                                                                      |null   |\n",
      "|media                         |string                                                                      |null   |\n",
      "|site                          |string                                                                      |null   |\n",
      "|site_type                     |string                                                                      |null   |\n",
      "|country                       |string                                                                      |null   |\n",
      "|brand                         |string                                                                      |null   |\n",
      "|device                        |string                                                                      |null   |\n",
      "|os                            |string                                                                      |null   |\n",
      "|device_type                   |string                                                                      |null   |\n",
      "|browser                       |string                                                                      |null   |\n",
      "|is_logged_in                  |int                                                                         |null   |\n",
      "|mobile_app_id_hashed          |string                                                                      |null   |\n",
      "|mobile_app_id_secondary_hashed|string                                                                      |null   |\n",
      "|mobile_app_user_id_hashed     |string                                                                      |null   |\n",
      "|leadout_click_bokey           |string                                                                      |null   |\n",
      "|currency                      |string                                                                      |null   |\n",
      "|earnings_dk                   |double                                                                      |null   |\n",
      "|date_utc                      |date                                                                        |null   |\n",
      "|hour                          |int                                                                         |null   |\n",
      "|# Partition Information       |                                                                            |       |\n",
      "|# col_name                    |data_type                                                                   |comment|\n",
      "|date_utc                      |date                                                                        |null   |\n",
      "|hour                          |int                                                                         |null   |\n",
      "|                              |                                                                            |       |\n",
      "|# Detailed Table Information  |                                                                            |       |\n",
      "|Database                      |default                                                                     |       |\n",
      "|Table                         |bucketed_fact_dk_earnings                                                   |       |\n",
      "|Owner                         |hadoop                                                                      |       |\n",
      "|Created Time                  |Sat Feb 26 09:57:15 UTC 2022                                                |       |\n",
      "|Last Access                   |UNKNOWN                                                                     |       |\n",
      "|Created By                    |Spark 3.1.2-amzn-0                                                          |       |\n",
      "|Type                          |EXTERNAL                                                                    |       |\n",
      "|Provider                      |parquet                                                                     |       |\n",
      "|Num Buckets                   |4                                                                           |       |\n",
      "|Bucket Columns                |[`cookie_value`]                                                            |       |\n",
      "|Sort Columns                  |[`cookie_value`]                                                            |       |\n",
      "|Location                      |s3://die-stg-733963962829-eu-central-1/linh_thesis/bucketed_fact_dk_earnings|       |\n",
      "|Serde Library                 |org.apache.hadoop.hive.ql.io.parquet.serde.ParquetHiveSerDe                 |       |\n",
      "|InputFormat                   |org.apache.hadoop.hive.ql.io.parquet.MapredParquetInputFormat               |       |\n",
      "|OutputFormat                  |org.apache.hadoop.hive.ql.io.parquet.MapredParquetOutputFormat              |       |\n",
      "|Storage Properties            |[compression=snappy]                                                        |       |\n",
      "|Partition Provider            |Catalog                                                                     |       |\n",
      "+------------------------------+----------------------------------------------------------------------------+-------+"
     ]
    }
   ],
   "source": [
    "spark.sql(\"DESCRIBE TABLE EXTENDED bucketed_fact_dk_earnings\").show(n=100, truncate=False)"
   ]
  },
  {
   "cell_type": "code",
   "execution_count": 11,
   "id": "c5e8c53a",
   "metadata": {},
   "outputs": [
    {
     "data": {
      "application/vnd.jupyter.widget-view+json": {
       "model_id": "",
       "version_major": 2,
       "version_minor": 0
      },
      "text/plain": [
       "FloatProgress(value=0.0, bar_style='info', description='Progress:', layout=Layout(height='25px', width='50%'),…"
      ]
     },
     "metadata": {},
     "output_type": "display_data"
    },
    {
     "name": "stdout",
     "output_type": "stream",
     "text": [
      "+------------------------------+-----------------------------------------------------------------------------------+-------+\n",
      "|col_name                      |data_type                                                                          |comment|\n",
      "+------------------------------+-----------------------------------------------------------------------------------+-------+\n",
      "|main_session_id               |bigint                                                                             |null   |\n",
      "|session_id                    |string                                                                             |null   |\n",
      "|cookie_value                  |string                                                                             |null   |\n",
      "|category_id                   |string                                                                             |null   |\n",
      "|product_id                    |string                                                                             |null   |\n",
      "|category_path_ids             |array<string>                                                                      |null   |\n",
      "|media                         |string                                                                             |null   |\n",
      "|site                          |string                                                                             |null   |\n",
      "|site_type                     |string                                                                             |null   |\n",
      "|country                       |string                                                                             |null   |\n",
      "|brand                         |string                                                                             |null   |\n",
      "|device                        |string                                                                             |null   |\n",
      "|os                            |string                                                                             |null   |\n",
      "|device_type                   |string                                                                             |null   |\n",
      "|browser                       |string                                                                             |null   |\n",
      "|is_logged_in                  |int                                                                                |null   |\n",
      "|mobile_app_id_hashed          |string                                                                             |null   |\n",
      "|mobile_app_id_secondary_hashed|string                                                                             |null   |\n",
      "|mobile_app_user_id_hashed     |string                                                                             |null   |\n",
      "|trace_time                    |bigint                                                                             |null   |\n",
      "|trace_timestamp               |timestamp                                                                          |null   |\n",
      "|revisit_session_id            |bigint                                                                             |null   |\n",
      "|leadout_click_bokey           |string                                                                             |null   |\n",
      "|leadout_click_position        |string                                                                             |null   |\n",
      "|leadout_price                 |string                                                                             |null   |\n",
      "|leadout_type                  |string                                                                             |null   |\n",
      "|leadout_offer_id              |string                                                                             |null   |\n",
      "|leadout_offer_key             |string                                                                             |null   |\n",
      "|leadout_affiliate             |string                                                                             |null   |\n",
      "|merchant_id                   |string                                                                             |null   |\n",
      "|mobile_app_version            |string                                                                             |null   |\n",
      "|product_type                  |string                                                                             |null   |\n",
      "|tests                         |array<struct<name:string,variant:string>>                                          |null   |\n",
      "|leadout_provider              |string                                                                             |null   |\n",
      "|utm_campaign                  |string                                                                             |null   |\n",
      "|utm_content                   |string                                                                             |null   |\n",
      "|utm_medium                    |string                                                                             |null   |\n",
      "|utm_source                    |string                                                                             |null   |\n",
      "|utm_term                      |string                                                                             |null   |\n",
      "|url_subdomain                 |string                                                                             |null   |\n",
      "|url_apexdomain                |string                                                                             |null   |\n",
      "|url_paths                     |array<string>                                                                      |null   |\n",
      "|url_parameters                |map<string,string>                                                                 |null   |\n",
      "|http_referer_subdomain        |string                                                                             |null   |\n",
      "|http_referer_apexdomain       |string                                                                             |null   |\n",
      "|http_referer_paths            |array<string>                                                                      |null   |\n",
      "|http_referer_parameters       |map<string,string>                                                                 |null   |\n",
      "|triggered_by                  |string                                                                             |null   |\n",
      "|shop_id                       |string                                                                             |null   |\n",
      "|date_utc                      |date                                                                               |null   |\n",
      "|hour                          |int                                                                                |null   |\n",
      "|# Partition Information       |                                                                                   |       |\n",
      "|# col_name                    |data_type                                                                          |comment|\n",
      "|date_utc                      |date                                                                               |null   |\n",
      "|hour                          |int                                                                                |null   |\n",
      "|                              |                                                                                   |       |\n",
      "|# Detailed Table Information  |                                                                                   |       |\n",
      "|Database                      |default                                                                            |       |\n",
      "|Table                         |bucketed_fact_leadouts_5_buckets                                                   |       |\n",
      "|Owner                         |hadoop                                                                             |       |\n",
      "|Created Time                  |Sat Feb 26 17:13:15 UTC 2022                                                       |       |\n",
      "|Last Access                   |UNKNOWN                                                                            |       |\n",
      "|Created By                    |Spark 3.1.2-amzn-0                                                                 |       |\n",
      "|Type                          |EXTERNAL                                                                           |       |\n",
      "|Provider                      |parquet                                                                            |       |\n",
      "|Num Buckets                   |5                                                                                  |       |\n",
      "|Bucket Columns                |[`cookie_value`]                                                                   |       |\n",
      "|Sort Columns                  |[`cookie_value`]                                                                   |       |\n",
      "|Location                      |s3://die-stg-733963962829-eu-central-1/linh_thesis/bucketed_fact_leadouts_5_buckets|       |\n",
      "|Serde Library                 |org.apache.hadoop.hive.ql.io.parquet.serde.ParquetHiveSerDe                        |       |\n",
      "|InputFormat                   |org.apache.hadoop.hive.ql.io.parquet.MapredParquetInputFormat                      |       |\n",
      "|OutputFormat                  |org.apache.hadoop.hive.ql.io.parquet.MapredParquetOutputFormat                     |       |\n",
      "|Storage Properties            |[compression=snappy]                                                               |       |\n",
      "|Partition Provider            |Catalog                                                                            |       |\n",
      "+------------------------------+-----------------------------------------------------------------------------------+-------+"
     ]
    }
   ],
   "source": [
    "spark.sql(\"DESCRIBE TABLE EXTENDED bucketed_fact_leadouts_5_buckets\").show(n=100, truncate=False)"
   ]
  },
  {
   "cell_type": "code",
   "execution_count": 12,
   "id": "9dccd490",
   "metadata": {},
   "outputs": [
    {
     "data": {
      "application/vnd.jupyter.widget-view+json": {
       "model_id": "",
       "version_major": 2,
       "version_minor": 0
      },
      "text/plain": [
       "FloatProgress(value=0.0, bar_style='info', description='Progress:', layout=Layout(height='25px', width='50%'),…"
      ]
     },
     "metadata": {},
     "output_type": "display_data"
    },
    {
     "name": "stdout",
     "output_type": "stream",
     "text": [
      "+------------------------------+------------------------------------------------------------------------------+-------+\n",
      "|col_name                      |data_type                                                                     |comment|\n",
      "+------------------------------+------------------------------------------------------------------------------+-------+\n",
      "|main_session_id               |bigint                                                                        |null   |\n",
      "|session_id                    |string                                                                        |null   |\n",
      "|cookie_value                  |string                                                                        |null   |\n",
      "|category_id                   |string                                                                        |null   |\n",
      "|product_id                    |string                                                                        |null   |\n",
      "|category_path_ids             |array<string>                                                                 |null   |\n",
      "|media                         |string                                                                        |null   |\n",
      "|site                          |string                                                                        |null   |\n",
      "|site_type                     |string                                                                        |null   |\n",
      "|country                       |string                                                                        |null   |\n",
      "|brand                         |string                                                                        |null   |\n",
      "|device                        |string                                                                        |null   |\n",
      "|os                            |string                                                                        |null   |\n",
      "|device_type                   |string                                                                        |null   |\n",
      "|browser                       |string                                                                        |null   |\n",
      "|is_logged_in                  |int                                                                           |null   |\n",
      "|mobile_app_id_hashed          |string                                                                        |null   |\n",
      "|mobile_app_id_secondary_hashed|string                                                                        |null   |\n",
      "|mobile_app_user_id_hashed     |string                                                                        |null   |\n",
      "|trace_time                    |bigint                                                                        |null   |\n",
      "|trace_timestamp               |timestamp                                                                     |null   |\n",
      "|revisit_session_id            |bigint                                                                        |null   |\n",
      "|leadout_click_bokey           |string                                                                        |null   |\n",
      "|leadout_click_position        |string                                                                        |null   |\n",
      "|leadout_price                 |string                                                                        |null   |\n",
      "|leadout_type                  |string                                                                        |null   |\n",
      "|leadout_offer_id              |string                                                                        |null   |\n",
      "|leadout_offer_key             |string                                                                        |null   |\n",
      "|leadout_affiliate             |string                                                                        |null   |\n",
      "|merchant_id                   |string                                                                        |null   |\n",
      "|mobile_app_version            |string                                                                        |null   |\n",
      "|product_type                  |string                                                                        |null   |\n",
      "|tests                         |array<struct<name:string,variant:string>>                                     |null   |\n",
      "|leadout_provider              |string                                                                        |null   |\n",
      "|utm_campaign                  |string                                                                        |null   |\n",
      "|utm_content                   |string                                                                        |null   |\n",
      "|utm_medium                    |string                                                                        |null   |\n",
      "|utm_source                    |string                                                                        |null   |\n",
      "|utm_term                      |string                                                                        |null   |\n",
      "|url_subdomain                 |string                                                                        |null   |\n",
      "|url_apexdomain                |string                                                                        |null   |\n",
      "|url_paths                     |array<string>                                                                 |null   |\n",
      "|url_parameters                |map<string,string>                                                            |null   |\n",
      "|http_referer_subdomain        |string                                                                        |null   |\n",
      "|http_referer_apexdomain       |string                                                                        |null   |\n",
      "|http_referer_paths            |array<string>                                                                 |null   |\n",
      "|http_referer_parameters       |map<string,string>                                                            |null   |\n",
      "|triggered_by                  |string                                                                        |null   |\n",
      "|shop_id                       |string                                                                        |null   |\n",
      "|date_utc                      |date                                                                          |null   |\n",
      "|hour                          |int                                                                           |null   |\n",
      "|# Partition Information       |                                                                              |       |\n",
      "|# col_name                    |data_type                                                                     |comment|\n",
      "|date_utc                      |date                                                                          |null   |\n",
      "|hour                          |int                                                                           |null   |\n",
      "|                              |                                                                              |       |\n",
      "|# Detailed Table Information  |                                                                              |       |\n",
      "|Database                      |default                                                                       |       |\n",
      "|Table                         |bucketed_fact_leadouts_msid                                                   |       |\n",
      "|Owner                         |hadoop                                                                        |       |\n",
      "|Created Time                  |Sat Feb 26 18:49:32 UTC 2022                                                  |       |\n",
      "|Last Access                   |UNKNOWN                                                                       |       |\n",
      "|Created By                    |Spark 3.1.2-amzn-0                                                            |       |\n",
      "|Type                          |EXTERNAL                                                                      |       |\n",
      "|Provider                      |parquet                                                                       |       |\n",
      "|Num Buckets                   |4                                                                             |       |\n",
      "|Bucket Columns                |[`main_session_id`]                                                           |       |\n",
      "|Sort Columns                  |[`main_session_id`]                                                           |       |\n",
      "|Location                      |s3://die-stg-733963962829-eu-central-1/linh_thesis/bucketed_fact_leadouts_msid|       |\n",
      "|Serde Library                 |org.apache.hadoop.hive.ql.io.parquet.serde.ParquetHiveSerDe                   |       |\n",
      "|InputFormat                   |org.apache.hadoop.hive.ql.io.parquet.MapredParquetInputFormat                 |       |\n",
      "|OutputFormat                  |org.apache.hadoop.hive.ql.io.parquet.MapredParquetOutputFormat                |       |\n",
      "|Storage Properties            |[compression=snappy]                                                          |       |\n",
      "|Partition Provider            |Catalog                                                                       |       |\n",
      "+------------------------------+------------------------------------------------------------------------------+-------+"
     ]
    }
   ],
   "source": [
    "spark.sql(\"DESCRIBE TABLE EXTENDED bucketed_fact_leadouts_msid\").show(n=100, truncate=False)"
   ]
  },
  {
   "cell_type": "code",
   "execution_count": 13,
   "id": "12f8f7c4",
   "metadata": {},
   "outputs": [
    {
     "data": {
      "application/vnd.jupyter.widget-view+json": {
       "model_id": "",
       "version_major": 2,
       "version_minor": 0
      },
      "text/plain": [
       "FloatProgress(value=0.0, bar_style='info', description='Progress:', layout=Layout(height='25px', width='50%'),…"
      ]
     },
     "metadata": {},
     "output_type": "display_data"
    },
    {
     "name": "stdout",
     "output_type": "stream",
     "text": [
      "+------------------------------+-----------------------------------------+-------+\n",
      "|col_name                      |data_type                                |comment|\n",
      "+------------------------------+-----------------------------------------+-------+\n",
      "|main_session_id               |bigint                                   |null   |\n",
      "|session_id                    |string                                   |null   |\n",
      "|cookie_value                  |string                                   |null   |\n",
      "|category_id                   |string                                   |null   |\n",
      "|product_id                    |string                                   |null   |\n",
      "|category_path_ids             |array<string>                            |null   |\n",
      "|media                         |string                                   |null   |\n",
      "|site                          |string                                   |null   |\n",
      "|site_type                     |string                                   |null   |\n",
      "|country                       |string                                   |null   |\n",
      "|brand                         |string                                   |null   |\n",
      "|device                        |string                                   |null   |\n",
      "|os                            |string                                   |null   |\n",
      "|device_type                   |string                                   |null   |\n",
      "|browser                       |string                                   |null   |\n",
      "|is_logged_in                  |int                                      |null   |\n",
      "|mobile_app_id_hashed          |string                                   |null   |\n",
      "|mobile_app_id_secondary_hashed|string                                   |null   |\n",
      "|mobile_app_user_id_hashed     |string                                   |null   |\n",
      "|trace_time                    |bigint                                   |null   |\n",
      "|trace_timestamp               |timestamp                                |null   |\n",
      "|revisit_session_id            |bigint                                   |null   |\n",
      "|leadout_click_bokey           |string                                   |null   |\n",
      "|leadout_click_position        |string                                   |null   |\n",
      "|leadout_price                 |string                                   |null   |\n",
      "|leadout_type                  |string                                   |null   |\n",
      "|leadout_offer_id              |string                                   |null   |\n",
      "|leadout_offer_key             |string                                   |null   |\n",
      "|leadout_affiliate             |string                                   |null   |\n",
      "|merchant_id                   |string                                   |null   |\n",
      "|mobile_app_version            |string                                   |null   |\n",
      "|product_type                  |string                                   |null   |\n",
      "|tests                         |array<struct<name:string,variant:string>>|null   |\n",
      "|leadout_provider              |string                                   |null   |\n",
      "|utm_campaign                  |string                                   |null   |\n",
      "|utm_content                   |string                                   |null   |\n",
      "|utm_medium                    |string                                   |null   |\n",
      "|utm_source                    |string                                   |null   |\n",
      "|utm_term                      |string                                   |null   |\n",
      "|url_subdomain                 |string                                   |null   |\n",
      "|url_apexdomain                |string                                   |null   |\n",
      "|url_paths                     |array<string>                            |null   |\n",
      "|url_parameters                |map<string,string>                       |null   |\n",
      "|http_referer_subdomain        |string                                   |null   |\n",
      "|http_referer_apexdomain       |string                                   |null   |\n",
      "|http_referer_paths            |array<string>                            |null   |\n",
      "|http_referer_parameters       |map<string,string>                       |null   |\n",
      "|triggered_by                  |string                                   |null   |\n",
      "|shop_id                       |string                                   |null   |\n",
      "|date_utc                      |date                                     |null   |\n",
      "|hour                          |int                                      |null   |\n",
      "+------------------------------+-----------------------------------------+-------+"
     ]
    }
   ],
   "source": [
    "spark.sql(\"DESCRIBE TABLE EXTENDED fact_leadouts_original\").show(n=100, truncate=False)"
   ]
  },
  {
   "cell_type": "code",
   "execution_count": 14,
   "id": "36f1c8c2",
   "metadata": {},
   "outputs": [
    {
     "data": {
      "application/vnd.jupyter.widget-view+json": {
       "model_id": "",
       "version_major": 2,
       "version_minor": 0
      },
      "text/plain": [
       "FloatProgress(value=0.0, bar_style='info', description='Progress:', layout=Layout(height='25px', width='50%'),…"
      ]
     },
     "metadata": {},
     "output_type": "display_data"
    },
    {
     "name": "stdout",
     "output_type": "stream",
     "text": [
      "+------------------------------+---------+-------+\n",
      "|col_name                      |data_type|comment|\n",
      "+------------------------------+---------+-------+\n",
      "|shop_id                       |string   |null   |\n",
      "|category_id                   |string   |null   |\n",
      "|category_path_ids             |int      |null   |\n",
      "|order_hash_id                 |string   |null   |\n",
      "|revenue                       |double   |null   |\n",
      "|quantity                      |bigint   |null   |\n",
      "|status                        |string   |null   |\n",
      "|order_timestamp               |timestamp|null   |\n",
      "|main_session_id               |bigint   |null   |\n",
      "|session_id                    |string   |null   |\n",
      "|cookie_value                  |string   |null   |\n",
      "|product_id                    |string   |null   |\n",
      "|media                         |string   |null   |\n",
      "|site                          |string   |null   |\n",
      "|site_type                     |string   |null   |\n",
      "|country                       |string   |null   |\n",
      "|brand                         |string   |null   |\n",
      "|device                        |string   |null   |\n",
      "|os                            |string   |null   |\n",
      "|device_type                   |string   |null   |\n",
      "|browser                       |string   |null   |\n",
      "|is_logged_in                  |int      |null   |\n",
      "|mobile_app_id_hashed          |string   |null   |\n",
      "|mobile_app_id_secondary_hashed|string   |null   |\n",
      "|mobile_app_user_id_hashed     |string   |null   |\n",
      "|leadout_click_bokey           |string   |null   |\n",
      "|currency                      |string   |null   |\n",
      "|earnings_dk                   |double   |null   |\n",
      "|date_utc                      |date     |null   |\n",
      "|hour                          |int      |null   |\n",
      "+------------------------------+---------+-------+"
     ]
    }
   ],
   "source": [
    "spark.sql(\"DESCRIBE TABLE EXTENDED fact_dk_earnings_original\").show(n=100, truncate=False)"
   ]
  },
  {
   "cell_type": "code",
   "execution_count": 15,
   "id": "97f809ff",
   "metadata": {},
   "outputs": [
    {
     "data": {
      "application/vnd.jupyter.widget-view+json": {
       "model_id": "",
       "version_major": 2,
       "version_minor": 0
      },
      "text/plain": [
       "FloatProgress(value=0.0, bar_style='info', description='Progress:', layout=Layout(height='25px', width='50%'),…"
      ]
     },
     "metadata": {},
     "output_type": "display_data"
    }
   ],
   "source": [
    "## non-bucketed tables\n",
    "t1 = spark.table(\"fact_leadouts_original\")\n",
    "t2 = spark.table(\"fact_dk_earnings_original\")\n",
    "\n",
    "# bucketed tables\n",
    "t3 = spark.table(\"bucketed_fact_leadouts\")\n",
    "t4 = spark.table(\"bucketed_fact_dk_earnings\")\n",
    "t5 = spark.table(\"bucketed_fact_leadouts_5_buckets\")\n",
    "t6 = spark.table(\"bucketed_fact_leadouts_msid\")"
   ]
  },
  {
   "cell_type": "code",
   "execution_count": 16,
   "id": "055d415e",
   "metadata": {},
   "outputs": [
    {
     "data": {
      "application/vnd.jupyter.widget-view+json": {
       "model_id": "",
       "version_major": 2,
       "version_minor": 0
      },
      "text/plain": [
       "FloatProgress(value=0.0, bar_style='info', description='Progress:', layout=Layout(height='25px', width='50%'),…"
      ]
     },
     "metadata": {},
     "output_type": "display_data"
    },
    {
     "name": "stdout",
     "output_type": "stream",
     "text": [
      "53396574"
     ]
    }
   ],
   "source": [
    "t1.count()"
   ]
  },
  {
   "cell_type": "code",
   "execution_count": 17,
   "id": "99afeee7",
   "metadata": {},
   "outputs": [
    {
     "data": {
      "application/vnd.jupyter.widget-view+json": {
       "model_id": "",
       "version_major": 2,
       "version_minor": 0
      },
      "text/plain": [
       "FloatProgress(value=0.0, bar_style='info', description='Progress:', layout=Layout(height='25px', width='50%'),…"
      ]
     },
     "metadata": {},
     "output_type": "display_data"
    },
    {
     "name": "stdout",
     "output_type": "stream",
     "text": [
      "599181"
     ]
    }
   ],
   "source": [
    "t2.count()"
   ]
  },
  {
   "cell_type": "code",
   "execution_count": 18,
   "id": "448cc538",
   "metadata": {},
   "outputs": [
    {
     "data": {
      "application/vnd.jupyter.widget-view+json": {
       "model_id": "",
       "version_major": 2,
       "version_minor": 0
      },
      "text/plain": [
       "FloatProgress(value=0.0, bar_style='info', description='Progress:', layout=Layout(height='25px', width='50%'),…"
      ]
     },
     "metadata": {},
     "output_type": "display_data"
    },
    {
     "name": "stdout",
     "output_type": "stream",
     "text": [
      "53396574"
     ]
    }
   ],
   "source": [
    "t3.count()"
   ]
  },
  {
   "cell_type": "code",
   "execution_count": 19,
   "id": "97ba8329",
   "metadata": {},
   "outputs": [
    {
     "data": {
      "application/vnd.jupyter.widget-view+json": {
       "model_id": "",
       "version_major": 2,
       "version_minor": 0
      },
      "text/plain": [
       "FloatProgress(value=0.0, bar_style='info', description='Progress:', layout=Layout(height='25px', width='50%'),…"
      ]
     },
     "metadata": {},
     "output_type": "display_data"
    },
    {
     "name": "stdout",
     "output_type": "stream",
     "text": [
      "599181"
     ]
    }
   ],
   "source": [
    "t4.count()"
   ]
  },
  {
   "cell_type": "code",
   "execution_count": 20,
   "id": "1afa9fb1",
   "metadata": {},
   "outputs": [
    {
     "data": {
      "application/vnd.jupyter.widget-view+json": {
       "model_id": "",
       "version_major": 2,
       "version_minor": 0
      },
      "text/plain": [
       "FloatProgress(value=0.0, bar_style='info', description='Progress:', layout=Layout(height='25px', width='50%'),…"
      ]
     },
     "metadata": {},
     "output_type": "display_data"
    },
    {
     "name": "stdout",
     "output_type": "stream",
     "text": [
      "53396574"
     ]
    }
   ],
   "source": [
    "t5.count()"
   ]
  },
  {
   "cell_type": "code",
   "execution_count": 21,
   "id": "96d575e3",
   "metadata": {},
   "outputs": [
    {
     "data": {
      "application/vnd.jupyter.widget-view+json": {
       "model_id": "",
       "version_major": 2,
       "version_minor": 0
      },
      "text/plain": [
       "FloatProgress(value=0.0, bar_style='info', description='Progress:', layout=Layout(height='25px', width='50%'),…"
      ]
     },
     "metadata": {},
     "output_type": "display_data"
    },
    {
     "name": "stdout",
     "output_type": "stream",
     "text": [
      "53396574"
     ]
    }
   ],
   "source": [
    "t6.count()"
   ]
  },
  {
   "cell_type": "markdown",
   "id": "8dd68bfe",
   "metadata": {},
   "source": [
    "## 6) Tests: Queries "
   ]
  },
  {
   "cell_type": "markdown",
   "id": "0741dbfa",
   "metadata": {},
   "source": [
    "Note: the joins between fact_leadouts and fact_dk_earnings always contain shuffle, regardless of the join keys"
   ]
  },
  {
   "cell_type": "code",
   "execution_count": 22,
   "id": "bc5d45c7",
   "metadata": {},
   "outputs": [
    {
     "data": {
      "application/vnd.jupyter.widget-view+json": {
       "model_id": "",
       "version_major": 2,
       "version_minor": 0
      },
      "text/plain": [
       "FloatProgress(value=0.0, bar_style='info', description='Progress:', layout=Layout(height='25px', width='50%'),…"
      ]
     },
     "metadata": {},
     "output_type": "display_data"
    }
   ],
   "source": [
    "query1 = spark.sql(\"SELECT t1.product_id, t1.category_id, t1.date_utc\\\n",
    "           FROM  fact_leadouts_original t1 join fact_dk_earnings_original t2 \\\n",
    "           ON t1.cookie_value = t2.cookie_value \\\n",
    "           WHERE t1.date_utc BETWEEN date('2021-12-01') AND date('2021-12-07') \\\n",
    "           and t2.date_utc BETWEEN date('2021-12-01') AND date('2021-12-07')\")"
   ]
  },
  {
   "cell_type": "code",
   "execution_count": 23,
   "id": "531c06a2",
   "metadata": {},
   "outputs": [
    {
     "data": {
      "application/vnd.jupyter.widget-view+json": {
       "model_id": "",
       "version_major": 2,
       "version_minor": 0
      },
      "text/plain": [
       "FloatProgress(value=0.0, bar_style='info', description='Progress:', layout=Layout(height='25px', width='50%'),…"
      ]
     },
     "metadata": {},
     "output_type": "display_data"
    },
    {
     "name": "stdout",
     "output_type": "stream",
     "text": [
      "+----------+-----------+----------+\n",
      "|product_id|category_id|  date_utc|\n",
      "+----------+-----------+----------+\n",
      "| 201168334|      21177|2021-12-05|\n",
      "|   5680051|       3972|2021-12-02|\n",
      "|   5680051|       3972|2021-12-02|\n",
      "|   5680051|       3972|2021-12-02|\n",
      "|   5680051|       3972|2021-12-02|\n",
      "|   5680051|       3972|2021-12-02|\n",
      "|   5680051|       3972|2021-12-02|\n",
      "| 200364800|       9552|2021-12-04|\n",
      "| 201609046|      18817|2021-12-03|\n",
      "|   6395743|       3236|2021-12-05|\n",
      "|   5102579|       3236|2021-12-05|\n",
      "|   5135206|       3236|2021-12-05|\n",
      "|   5135206|       3236|2021-12-05|\n",
      "|   6395743|       3236|2021-12-05|\n",
      "|   6395743|       3236|2021-12-05|\n",
      "|   6395743|       3236|2021-12-05|\n",
      "|   6395743|       3236|2021-12-05|\n",
      "|   6395743|       3236|2021-12-05|\n",
      "|   6395743|       3236|2021-12-05|\n",
      "|   6395743|       3236|2021-12-05|\n",
      "+----------+-----------+----------+\n",
      "only showing top 20 rows"
     ]
    }
   ],
   "source": [
    "query1.show()"
   ]
  },
  {
   "cell_type": "code",
   "execution_count": 24,
   "id": "67fdfa86",
   "metadata": {},
   "outputs": [
    {
     "data": {
      "application/vnd.jupyter.widget-view+json": {
       "model_id": "",
       "version_major": 2,
       "version_minor": 0
      },
      "text/plain": [
       "FloatProgress(value=0.0, bar_style='info', description='Progress:', layout=Layout(height='25px', width='50%'),…"
      ]
     },
     "metadata": {},
     "output_type": "display_data"
    },
    {
     "name": "stdout",
     "output_type": "stream",
     "text": [
      "== Physical Plan ==\n",
      "AdaptiveSparkPlan (13)\n",
      "+- Project (12)\n",
      "   +- SortMergeJoin Inner (11)\n",
      "      :- Sort (5)\n",
      "      :  +- Exchange (4)\n",
      "      :     +- Project (3)\n",
      "      :        +- Filter (2)\n",
      "      :           +- Scan parquet  (1)\n",
      "      +- Sort (10)\n",
      "         +- Exchange (9)\n",
      "            +- Project (8)\n",
      "               +- Filter (7)\n",
      "                  +- Scan parquet  (6)\n",
      "\n",
      "\n",
      "(1) Scan parquet \n",
      "Output [5]: [cookie_value#62, category_id#63, product_id#64, date_utc#109, hour#110]\n",
      "Batched: true\n",
      "Location: InMemoryFileIndex [s3://die-stg-733963962829-eu-central-1/linh_thesis/fact_leadouts]\n",
      "PartitionFilters: [isnotnull(date_utc#109), (date_utc#109 >= 18962), (date_utc#109 <= 18968)]\n",
      "PushedFilters: [IsNotNull(cookie_value)]\n",
      "ReadSchema: struct<cookie_value:string,category_id:string,product_id:string>\n",
      "\n",
      "(2) Filter\n",
      "Input [5]: [cookie_value#62, category_id#63, product_id#64, date_utc#109, hour#110]\n",
      "Condition : (isnotnull(cookie_value#62) AND bloomfilter#1122 of [bf1122 cookie_value#10 estimatedNumRows=159220] filtering [cookie_value#62])\n",
      "\n",
      "(3) Project\n",
      "Output [4]: [cookie_value#62, category_id#63, product_id#64, date_utc#109]\n",
      "Input [5]: [cookie_value#62, category_id#63, product_id#64, date_utc#109, hour#110]\n",
      "\n",
      "(4) Exchange\n",
      "Input [4]: [cookie_value#62, category_id#63, product_id#64, date_utc#109]\n",
      "Arguments: hashpartitioning(cookie_value#62, 1000), ENSURE_REQUIREMENTS, [id=#622]\n",
      "\n",
      "(5) Sort\n",
      "Input [4]: [cookie_value#62, category_id#63, product_id#64, date_utc#109]\n",
      "Arguments: [cookie_value#62 ASC NULLS FIRST], false, 0\n",
      "\n",
      "(6) Scan parquet \n",
      "Output [3]: [cookie_value#10, date_utc#28, hour#29]\n",
      "Batched: true\n",
      "Location: InMemoryFileIndex [s3://die-stg-733963962829-eu-central-1/linh_thesis/fact_dk_earnings]\n",
      "PartitionFilters: [isnotnull(date_utc#28), (date_utc#28 >= 18962), (date_utc#28 <= 18968)]\n",
      "PushedFilters: [IsNotNull(cookie_value)]\n",
      "ReadSchema: struct<cookie_value:string>\n",
      "\n",
      "(7) Filter\n",
      "Input [3]: [cookie_value#10, date_utc#28, hour#29]\n",
      "Condition : isnotnull(cookie_value#10)\n",
      "\n",
      "(8) Project\n",
      "Output [1]: [cookie_value#10]\n",
      "Input [3]: [cookie_value#10, date_utc#28, hour#29]\n",
      "\n",
      "(9) Exchange\n",
      "Input [1]: [cookie_value#10]\n",
      "Arguments: hashpartitioning(cookie_value#10, 1000), ENSURE_REQUIREMENTS, [id=#592]\n",
      "\n",
      "(10) Sort\n",
      "Input [1]: [cookie_value#10]\n",
      "Arguments: [cookie_value#10 ASC NULLS FIRST], false, 0\n",
      "\n",
      "(11) SortMergeJoin\n",
      "Left keys [1]: [cookie_value#62]\n",
      "Right keys [1]: [cookie_value#10]\n",
      "Join condition: None\n",
      "\n",
      "(12) Project\n",
      "Output [3]: [product_id#64, category_id#63, date_utc#109]\n",
      "Input [5]: [cookie_value#62, category_id#63, product_id#64, date_utc#109, cookie_value#10]\n",
      "\n",
      "(13) AdaptiveSparkPlan\n",
      "Output [3]: [product_id#64, category_id#63, date_utc#109]\n",
      "Arguments: isFinalPlan=false\n",
      "\n",
      "===== Subqueries =====\n",
      "\n",
      "Subquery:1 Hosting operator id = 2 Hosting Expression = bloomfilter#1122 of [bf1122 cookie_value#10 estimatedNumRows=159220] filtering [cookie_value#62]\n",
      "OutputAdapter (19)\n",
      "+- AdaptiveSparkPlan (18)\n",
      "   +- Exchange (17)\n",
      "      +- Project (16)\n",
      "         +- Filter (15)\n",
      "            +- Scan parquet  (14)\n",
      "\n",
      "\n",
      "(14) Scan parquet \n",
      "Output [3]: [cookie_value#10, date_utc#28, hour#29]\n",
      "Batched: true\n",
      "Location: InMemoryFileIndex [s3://die-stg-733963962829-eu-central-1/linh_thesis/fact_dk_earnings]\n",
      "PartitionFilters: [isnotnull(date_utc#28), (date_utc#28 >= 18962), (date_utc#28 <= 18968)]\n",
      "PushedFilters: [IsNotNull(cookie_value)]\n",
      "ReadSchema: struct<cookie_value:string>\n",
      "\n",
      "(15) Filter\n",
      "Input [3]: [cookie_value#10, date_utc#28, hour#29]\n",
      "Condition : isnotnull(cookie_value#10)\n",
      "\n",
      "(16) Project\n",
      "Output [1]: [cookie_value#10]\n",
      "Input [3]: [cookie_value#10, date_utc#28, hour#29]\n",
      "\n",
      "(17) Exchange\n",
      "Input [1]: [cookie_value#10]\n",
      "Arguments: hashpartitioning(cookie_value#10, 1000), ENSURE_REQUIREMENTS, [id=#616]\n",
      "\n",
      "(18) AdaptiveSparkPlan\n",
      "Output [1]: [cookie_value#10]\n",
      "Arguments: isFinalPlan=false\n",
      "\n",
      "(19) OutputAdapter\n",
      "Output [1]: [cookie_value#10]"
     ]
    }
   ],
   "source": [
    "query1.explain(mode=\"formatted\")"
   ]
  },
  {
   "cell_type": "code",
   "execution_count": 25,
   "id": "86882a64",
   "metadata": {},
   "outputs": [
    {
     "data": {
      "application/vnd.jupyter.widget-view+json": {
       "model_id": "",
       "version_major": 2,
       "version_minor": 0
      },
      "text/plain": [
       "FloatProgress(value=0.0, bar_style='info', description='Progress:', layout=Layout(height='25px', width='50%'),…"
      ]
     },
     "metadata": {},
     "output_type": "display_data"
    }
   ],
   "source": [
    "query2 = spark.sql(\"SELECT t1.product_id, t1.category_id, t1.date_utc\\\n",
    "           FROM  fact_leadouts_original t1 join fact_dk_earnings_original t2 \\\n",
    "           ON t1.leadout_click_bokey = t2.leadout_click_bokey \\\n",
    "           WHERE t1.date_utc BETWEEN date('2021-12-01') AND date('2021-12-07') \\\n",
    "           and t2.date_utc BETWEEN date('2021-12-01') AND date('2021-12-07')\")"
   ]
  },
  {
   "cell_type": "code",
   "execution_count": 26,
   "id": "e62c9153",
   "metadata": {},
   "outputs": [
    {
     "data": {
      "application/vnd.jupyter.widget-view+json": {
       "model_id": "",
       "version_major": 2,
       "version_minor": 0
      },
      "text/plain": [
       "FloatProgress(value=0.0, bar_style='info', description='Progress:', layout=Layout(height='25px', width='50%'),…"
      ]
     },
     "metadata": {},
     "output_type": "display_data"
    },
    {
     "name": "stdout",
     "output_type": "stream",
     "text": [
      "+----------+-----------+----------+\n",
      "|product_id|category_id|  date_utc|\n",
      "+----------+-----------+----------+\n",
      "|   6826083|       2021|2021-12-05|\n",
      "| 201130660|       1941|2021-12-05|\n",
      "| 200521858|       5414|2021-12-05|\n",
      "| 201682626|      30990|2021-12-03|\n",
      "|   6568620|       3309|2021-12-03|\n",
      "|   4791210|       3750|2021-12-07|\n",
      "| 200578608|      32482|2021-12-07|\n",
      "|    589125|       3972|2021-12-03|\n",
      "|   5006663|      22699|2021-12-03|\n",
      "| 201383628|      32530|2021-12-01|\n",
      "|   3041390|       7174|2021-12-02|\n",
      "|   6864854|      19116|2021-12-03|\n",
      "|   5031158|      27733|2021-12-07|\n",
      "| 200741011|       7734|2021-12-01|\n",
      "| 200612395|       3747|2021-12-06|\n",
      "|   1159285|      18423|2021-12-02|\n",
      "|   1159285|      18423|2021-12-02|\n",
      "| 201264818|       3751|2021-12-06|\n",
      "|   6181718|      10832|2021-12-01|\n",
      "| 201392308|      22506|2021-12-05|\n",
      "+----------+-----------+----------+\n",
      "only showing top 20 rows"
     ]
    }
   ],
   "source": [
    "query2.show()"
   ]
  },
  {
   "cell_type": "code",
   "execution_count": 27,
   "id": "d5a0b3e0",
   "metadata": {},
   "outputs": [
    {
     "data": {
      "application/vnd.jupyter.widget-view+json": {
       "model_id": "",
       "version_major": 2,
       "version_minor": 0
      },
      "text/plain": [
       "FloatProgress(value=0.0, bar_style='info', description='Progress:', layout=Layout(height='25px', width='50%'),…"
      ]
     },
     "metadata": {},
     "output_type": "display_data"
    },
    {
     "name": "stdout",
     "output_type": "stream",
     "text": [
      "== Physical Plan ==\n",
      "AdaptiveSparkPlan (13)\n",
      "+- Project (12)\n",
      "   +- SortMergeJoin Inner (11)\n",
      "      :- Sort (5)\n",
      "      :  +- Exchange (4)\n",
      "      :     +- Project (3)\n",
      "      :        +- Filter (2)\n",
      "      :           +- Scan parquet  (1)\n",
      "      +- Sort (10)\n",
      "         +- Exchange (9)\n",
      "            +- Project (8)\n",
      "               +- Filter (7)\n",
      "                  +- Scan parquet  (6)\n",
      "\n",
      "\n",
      "(1) Scan parquet \n",
      "Output [5]: [category_id#63, product_id#64, leadout_click_bokey#82, date_utc#109, hour#110]\n",
      "Batched: true\n",
      "Location: InMemoryFileIndex [s3://die-stg-733963962829-eu-central-1/linh_thesis/fact_leadouts]\n",
      "PartitionFilters: [isnotnull(date_utc#109), (date_utc#109 >= 18962), (date_utc#109 <= 18968)]\n",
      "PushedFilters: [IsNotNull(leadout_click_bokey)]\n",
      "ReadSchema: struct<category_id:string,product_id:string,leadout_click_bokey:string>\n",
      "\n",
      "(2) Filter\n",
      "Input [5]: [category_id#63, product_id#64, leadout_click_bokey#82, date_utc#109, hour#110]\n",
      "Condition : (isnotnull(leadout_click_bokey#82) AND bloomfilter#1140 of [bf1140 leadout_click_bokey#25 estimatedNumRows=159220] filtering [leadout_click_bokey#82])\n",
      "\n",
      "(3) Project\n",
      "Output [4]: [category_id#63, product_id#64, leadout_click_bokey#82, date_utc#109]\n",
      "Input [5]: [category_id#63, product_id#64, leadout_click_bokey#82, date_utc#109, hour#110]\n",
      "\n",
      "(4) Exchange\n",
      "Input [4]: [category_id#63, product_id#64, leadout_click_bokey#82, date_utc#109]\n",
      "Arguments: hashpartitioning(leadout_click_bokey#82, 1000), ENSURE_REQUIREMENTS, [id=#962]\n",
      "\n",
      "(5) Sort\n",
      "Input [4]: [category_id#63, product_id#64, leadout_click_bokey#82, date_utc#109]\n",
      "Arguments: [leadout_click_bokey#82 ASC NULLS FIRST], false, 0\n",
      "\n",
      "(6) Scan parquet \n",
      "Output [3]: [leadout_click_bokey#25, date_utc#28, hour#29]\n",
      "Batched: true\n",
      "Location: InMemoryFileIndex [s3://die-stg-733963962829-eu-central-1/linh_thesis/fact_dk_earnings]\n",
      "PartitionFilters: [isnotnull(date_utc#28), (date_utc#28 >= 18962), (date_utc#28 <= 18968)]\n",
      "PushedFilters: [IsNotNull(leadout_click_bokey)]\n",
      "ReadSchema: struct<leadout_click_bokey:string>\n",
      "\n",
      "(7) Filter\n",
      "Input [3]: [leadout_click_bokey#25, date_utc#28, hour#29]\n",
      "Condition : isnotnull(leadout_click_bokey#25)\n",
      "\n",
      "(8) Project\n",
      "Output [1]: [leadout_click_bokey#25]\n",
      "Input [3]: [leadout_click_bokey#25, date_utc#28, hour#29]\n",
      "\n",
      "(9) Exchange\n",
      "Input [1]: [leadout_click_bokey#25]\n",
      "Arguments: hashpartitioning(leadout_click_bokey#25, 1000), ENSURE_REQUIREMENTS, [id=#932]\n",
      "\n",
      "(10) Sort\n",
      "Input [1]: [leadout_click_bokey#25]\n",
      "Arguments: [leadout_click_bokey#25 ASC NULLS FIRST], false, 0\n",
      "\n",
      "(11) SortMergeJoin\n",
      "Left keys [1]: [leadout_click_bokey#82]\n",
      "Right keys [1]: [leadout_click_bokey#25]\n",
      "Join condition: None\n",
      "\n",
      "(12) Project\n",
      "Output [3]: [product_id#64, category_id#63, date_utc#109]\n",
      "Input [5]: [category_id#63, product_id#64, leadout_click_bokey#82, date_utc#109, leadout_click_bokey#25]\n",
      "\n",
      "(13) AdaptiveSparkPlan\n",
      "Output [3]: [product_id#64, category_id#63, date_utc#109]\n",
      "Arguments: isFinalPlan=false\n",
      "\n",
      "===== Subqueries =====\n",
      "\n",
      "Subquery:1 Hosting operator id = 2 Hosting Expression = bloomfilter#1140 of [bf1140 leadout_click_bokey#25 estimatedNumRows=159220] filtering [leadout_click_bokey#82]\n",
      "OutputAdapter (19)\n",
      "+- AdaptiveSparkPlan (18)\n",
      "   +- Exchange (17)\n",
      "      +- Project (16)\n",
      "         +- Filter (15)\n",
      "            +- Scan parquet  (14)\n",
      "\n",
      "\n",
      "(14) Scan parquet \n",
      "Output [3]: [leadout_click_bokey#25, date_utc#28, hour#29]\n",
      "Batched: true\n",
      "Location: InMemoryFileIndex [s3://die-stg-733963962829-eu-central-1/linh_thesis/fact_dk_earnings]\n",
      "PartitionFilters: [isnotnull(date_utc#28), (date_utc#28 >= 18962), (date_utc#28 <= 18968)]\n",
      "PushedFilters: [IsNotNull(leadout_click_bokey)]\n",
      "ReadSchema: struct<leadout_click_bokey:string>\n",
      "\n",
      "(15) Filter\n",
      "Input [3]: [leadout_click_bokey#25, date_utc#28, hour#29]\n",
      "Condition : isnotnull(leadout_click_bokey#25)\n",
      "\n",
      "(16) Project\n",
      "Output [1]: [leadout_click_bokey#25]\n",
      "Input [3]: [leadout_click_bokey#25, date_utc#28, hour#29]\n",
      "\n",
      "(17) Exchange\n",
      "Input [1]: [leadout_click_bokey#25]\n",
      "Arguments: hashpartitioning(leadout_click_bokey#25, 1000), ENSURE_REQUIREMENTS, [id=#956]\n",
      "\n",
      "(18) AdaptiveSparkPlan\n",
      "Output [1]: [leadout_click_bokey#25]\n",
      "Arguments: isFinalPlan=false\n",
      "\n",
      "(19) OutputAdapter\n",
      "Output [1]: [leadout_click_bokey#25]"
     ]
    }
   ],
   "source": [
    "query2.explain(mode=\"formatted\")"
   ]
  },
  {
   "cell_type": "markdown",
   "id": "189fb756",
   "metadata": {},
   "source": [
    "### a) Join a bucketed table with a non-bucketed table on the bucket key"
   ]
  },
  {
   "cell_type": "code",
   "execution_count": 28,
   "id": "1a210a81",
   "metadata": {},
   "outputs": [
    {
     "data": {
      "application/vnd.jupyter.widget-view+json": {
       "model_id": "",
       "version_major": 2,
       "version_minor": 0
      },
      "text/plain": [
       "FloatProgress(value=0.0, bar_style='info', description='Progress:', layout=Layout(height='25px', width='50%'),…"
      ]
     },
     "metadata": {},
     "output_type": "display_data"
    }
   ],
   "source": [
    "query3 = spark.sql(\"SELECT t1.product_id, t1.category_id, t1.date_utc\\\n",
    "           FROM  bucketed_fact_leadouts t1 join fact_dk_earnings_original t2 \\\n",
    "           ON t1.cookie_value = t2.cookie_value \\\n",
    "           WHERE t1.date_utc BETWEEN date('2021-12-01') AND date('2021-12-07') \\\n",
    "           and t2.date_utc BETWEEN date('2021-12-01') AND date('2021-12-07')\")"
   ]
  },
  {
   "cell_type": "code",
   "execution_count": 29,
   "id": "44267f7d",
   "metadata": {},
   "outputs": [
    {
     "data": {
      "application/vnd.jupyter.widget-view+json": {
       "model_id": "",
       "version_major": 2,
       "version_minor": 0
      },
      "text/plain": [
       "FloatProgress(value=0.0, bar_style='info', description='Progress:', layout=Layout(height='25px', width='50%'),…"
      ]
     },
     "metadata": {},
     "output_type": "display_data"
    },
    {
     "name": "stdout",
     "output_type": "stream",
     "text": [
      "+----------+-----------+----------+\n",
      "|product_id|category_id|  date_utc|\n",
      "+----------+-----------+----------+\n",
      "| 201581052|       4734|2021-12-06|\n",
      "| 201581052|       4734|2021-12-06|\n",
      "| 201581052|       4734|2021-12-06|\n",
      "|   6795386|       2461|2021-12-02|\n",
      "| 201436879|       9553|2021-12-05|\n",
      "| 201436879|       9553|2021-12-05|\n",
      "| 201436879|       9553|2021-12-05|\n",
      "| 201436879|       9553|2021-12-05|\n",
      "| 201436879|       9553|2021-12-05|\n",
      "|    967230|       3972|2021-12-07|\n",
      "|    967230|       3972|2021-12-07|\n",
      "|    967230|       3972|2021-12-07|\n",
      "|    600529|       8694|2021-12-05|\n",
      "|   7061492|       8694|2021-12-04|\n",
      "|   7061492|       8694|2021-12-06|\n",
      "|   7061492|       8694|2021-12-06|\n",
      "|   6725776|      11595|2021-12-01|\n",
      "|   6725776|      11595|2021-12-01|\n",
      "| 200838608|      18817|2021-12-01|\n",
      "| 200867399|       2925|2021-12-03|\n",
      "+----------+-----------+----------+\n",
      "only showing top 20 rows"
     ]
    }
   ],
   "source": [
    "query3.show()"
   ]
  },
  {
   "cell_type": "code",
   "execution_count": 30,
   "id": "7328b197",
   "metadata": {},
   "outputs": [
    {
     "data": {
      "application/vnd.jupyter.widget-view+json": {
       "model_id": "",
       "version_major": 2,
       "version_minor": 0
      },
      "text/plain": [
       "FloatProgress(value=0.0, bar_style='info', description='Progress:', layout=Layout(height='25px', width='50%'),…"
      ]
     },
     "metadata": {},
     "output_type": "display_data"
    },
    {
     "name": "stdout",
     "output_type": "stream",
     "text": [
      "== Physical Plan ==\n",
      "AdaptiveSparkPlan (13)\n",
      "+- Project (12)\n",
      "   +- SortMergeJoin Inner (11)\n",
      "      :- Sort (5)\n",
      "      :  +- Exchange (4)\n",
      "      :     +- Project (3)\n",
      "      :        +- Filter (2)\n",
      "      :           +- Scan parquet default.bucketed_fact_leadouts (1)\n",
      "      +- Sort (10)\n",
      "         +- Exchange (9)\n",
      "            +- Project (8)\n",
      "               +- Filter (7)\n",
      "                  +- Scan parquet  (6)\n",
      "\n",
      "\n",
      "(1) Scan parquet default.bucketed_fact_leadouts\n",
      "Output [5]: [cookie_value#447, category_id#448, product_id#449, date_utc#494, hour#495]\n",
      "Batched: true\n",
      "Location: InMemoryFileIndex [s3://die-stg-733963962829-eu-central-1/linh_thesis/bucketed_fact_leadouts/date_utc=2021-12-02/hour=14, ... 167 entries]\n",
      "PartitionFilters: [isnotnull(date_utc#494), (date_utc#494 >= 18962), (date_utc#494 <= 18968)]\n",
      "PushedFilters: [IsNotNull(cookie_value)]\n",
      "ReadSchema: struct<cookie_value:string,category_id:string,product_id:string>\n",
      "\n",
      "(2) Filter\n",
      "Input [5]: [cookie_value#447, category_id#448, product_id#449, date_utc#494, hour#495]\n",
      "Condition : (isnotnull(cookie_value#447) AND bloomfilter#1158 of [bf1158 cookie_value#10 estimatedNumRows=159220] filtering [cookie_value#447])\n",
      "\n",
      "(3) Project\n",
      "Output [4]: [cookie_value#447, category_id#448, product_id#449, date_utc#494]\n",
      "Input [5]: [cookie_value#447, category_id#448, product_id#449, date_utc#494, hour#495]\n",
      "\n",
      "(4) Exchange\n",
      "Input [4]: [cookie_value#447, category_id#448, product_id#449, date_utc#494]\n",
      "Arguments: hashpartitioning(cookie_value#447, 200), ENSURE_REQUIREMENTS, [id=#1319]\n",
      "\n",
      "(5) Sort\n",
      "Input [4]: [cookie_value#447, category_id#448, product_id#449, date_utc#494]\n",
      "Arguments: [cookie_value#447 ASC NULLS FIRST], false, 0\n",
      "\n",
      "(6) Scan parquet \n",
      "Output [3]: [cookie_value#10, date_utc#28, hour#29]\n",
      "Batched: true\n",
      "Location: InMemoryFileIndex [s3://die-stg-733963962829-eu-central-1/linh_thesis/fact_dk_earnings]\n",
      "PartitionFilters: [isnotnull(date_utc#28), (date_utc#28 >= 18962), (date_utc#28 <= 18968)]\n",
      "PushedFilters: [IsNotNull(cookie_value)]\n",
      "ReadSchema: struct<cookie_value:string>\n",
      "\n",
      "(7) Filter\n",
      "Input [3]: [cookie_value#10, date_utc#28, hour#29]\n",
      "Condition : isnotnull(cookie_value#10)\n",
      "\n",
      "(8) Project\n",
      "Output [1]: [cookie_value#10]\n",
      "Input [3]: [cookie_value#10, date_utc#28, hour#29]\n",
      "\n",
      "(9) Exchange\n",
      "Input [1]: [cookie_value#10]\n",
      "Arguments: hashpartitioning(cookie_value#10, 200), ENSURE_REQUIREMENTS, [id=#1282]\n",
      "\n",
      "(10) Sort\n",
      "Input [1]: [cookie_value#10]\n",
      "Arguments: [cookie_value#10 ASC NULLS FIRST], false, 0\n",
      "\n",
      "(11) SortMergeJoin\n",
      "Left keys [1]: [cookie_value#447]\n",
      "Right keys [1]: [cookie_value#10]\n",
      "Join condition: None\n",
      "\n",
      "(12) Project\n",
      "Output [3]: [product_id#449, category_id#448, date_utc#494]\n",
      "Input [5]: [cookie_value#447, category_id#448, product_id#449, date_utc#494, cookie_value#10]\n",
      "\n",
      "(13) AdaptiveSparkPlan\n",
      "Output [3]: [product_id#449, category_id#448, date_utc#494]\n",
      "Arguments: isFinalPlan=false\n",
      "\n",
      "===== Subqueries =====\n",
      "\n",
      "Subquery:1 Hosting operator id = 2 Hosting Expression = bloomfilter#1158 of [bf1158 cookie_value#10 estimatedNumRows=159220] filtering [cookie_value#447]\n",
      "OutputAdapter (19)\n",
      "+- AdaptiveSparkPlan (18)\n",
      "   +- Exchange (17)\n",
      "      +- Project (16)\n",
      "         +- Filter (15)\n",
      "            +- Scan parquet  (14)\n",
      "\n",
      "\n",
      "(14) Scan parquet \n",
      "Output [3]: [cookie_value#10, date_utc#28, hour#29]\n",
      "Batched: true\n",
      "Location: InMemoryFileIndex [s3://die-stg-733963962829-eu-central-1/linh_thesis/fact_dk_earnings]\n",
      "PartitionFilters: [isnotnull(date_utc#28), (date_utc#28 >= 18962), (date_utc#28 <= 18968)]\n",
      "PushedFilters: [IsNotNull(cookie_value)]\n",
      "ReadSchema: struct<cookie_value:string>\n",
      "\n",
      "(15) Filter\n",
      "Input [3]: [cookie_value#10, date_utc#28, hour#29]\n",
      "Condition : isnotnull(cookie_value#10)\n",
      "\n",
      "(16) Project\n",
      "Output [1]: [cookie_value#10]\n",
      "Input [3]: [cookie_value#10, date_utc#28, hour#29]\n",
      "\n",
      "(17) Exchange\n",
      "Input [1]: [cookie_value#10]\n",
      "Arguments: hashpartitioning(cookie_value#10, 200), ENSURE_REQUIREMENTS, [id=#1313]\n",
      "\n",
      "(18) AdaptiveSparkPlan\n",
      "Output [1]: [cookie_value#10]\n",
      "Arguments: isFinalPlan=false\n",
      "\n",
      "(19) OutputAdapter\n",
      "Output [1]: [cookie_value#10]"
     ]
    }
   ],
   "source": [
    "query3.explain(mode=\"formatted\")"
   ]
  },
  {
   "cell_type": "markdown",
   "id": "c2601b6b",
   "metadata": {},
   "source": [
    "### b) Join two bucketed tables with different numbers of buckets on the bucket key"
   ]
  },
  {
   "cell_type": "code",
   "execution_count": 31,
   "id": "2c21fac6",
   "metadata": {},
   "outputs": [
    {
     "data": {
      "application/vnd.jupyter.widget-view+json": {
       "model_id": "",
       "version_major": 2,
       "version_minor": 0
      },
      "text/plain": [
       "FloatProgress(value=0.0, bar_style='info', description='Progress:', layout=Layout(height='25px', width='50%'),…"
      ]
     },
     "metadata": {},
     "output_type": "display_data"
    }
   ],
   "source": [
    "query4 = spark.sql(\"SELECT t1.product_id, t1.category_id, t1.date_utc\\\n",
    "           FROM  bucketed_fact_leadouts_5_buckets t1 join bucketed_fact_dk_earnings t2 \\\n",
    "           ON t1.cookie_value = t2.cookie_value \\\n",
    "           WHERE t1.date_utc BETWEEN date('2021-12-01') AND date('2021-12-07') \\\n",
    "           and t2.date_utc BETWEEN date('2021-12-01') AND date('2021-12-07')\")"
   ]
  },
  {
   "cell_type": "code",
   "execution_count": 32,
   "id": "6d9a2f31",
   "metadata": {},
   "outputs": [
    {
     "data": {
      "application/vnd.jupyter.widget-view+json": {
       "model_id": "",
       "version_major": 2,
       "version_minor": 0
      },
      "text/plain": [
       "FloatProgress(value=0.0, bar_style='info', description='Progress:', layout=Layout(height='25px', width='50%'),…"
      ]
     },
     "metadata": {},
     "output_type": "display_data"
    },
    {
     "name": "stdout",
     "output_type": "stream",
     "text": [
      "+----------+-----------+----------+\n",
      "|product_id|category_id|  date_utc|\n",
      "+----------+-----------+----------+\n",
      "|   6795386|       2461|2021-12-02|\n",
      "| 201581052|       4734|2021-12-06|\n",
      "| 201581052|       4734|2021-12-06|\n",
      "| 201581052|       4734|2021-12-06|\n",
      "|   5486902|      27600|2021-12-07|\n",
      "|   6450995|      18852|2021-12-06|\n",
      "|   6450995|      18852|2021-12-06|\n",
      "|   6527533|      18852|2021-12-06|\n",
      "| 200946898|       3406|2021-12-05|\n",
      "|   5744665|       3406|2021-12-05|\n",
      "| 200788585|       3099|2021-12-05|\n",
      "| 200788585|       3099|2021-12-05|\n",
      "|   6586836|       4892|2021-12-07|\n",
      "|   6586836|       4892|2021-12-07|\n",
      "|   6586836|       4892|2021-12-07|\n",
      "|   6586836|       4892|2021-12-07|\n",
      "|   6586836|       4892|2021-12-07|\n",
      "|   6586836|       4892|2021-12-07|\n",
      "| 200589169|      19116|2021-12-05|\n",
      "| 201136967|      21177|2021-12-06|\n",
      "+----------+-----------+----------+\n",
      "only showing top 20 rows"
     ]
    }
   ],
   "source": [
    "query4.show()"
   ]
  },
  {
   "cell_type": "code",
   "execution_count": 33,
   "id": "2ebbf4bd",
   "metadata": {},
   "outputs": [
    {
     "data": {
      "application/vnd.jupyter.widget-view+json": {
       "model_id": "",
       "version_major": 2,
       "version_minor": 0
      },
      "text/plain": [
       "FloatProgress(value=0.0, bar_style='info', description='Progress:', layout=Layout(height='25px', width='50%'),…"
      ]
     },
     "metadata": {},
     "output_type": "display_data"
    },
    {
     "name": "stdout",
     "output_type": "stream",
     "text": [
      "== Physical Plan ==\n",
      "AdaptiveSparkPlan (12)\n",
      "+- Project (11)\n",
      "   +- SortMergeJoin Inner (10)\n",
      "      :- Sort (4)\n",
      "      :  +- Project (3)\n",
      "      :     +- Filter (2)\n",
      "      :        +- Scan parquet default.bucketed_fact_leadouts_5_buckets (1)\n",
      "      +- Sort (9)\n",
      "         +- Exchange (8)\n",
      "            +- Project (7)\n",
      "               +- Filter (6)\n",
      "                  +- Scan parquet default.bucketed_fact_dk_earnings (5)\n",
      "\n",
      "\n",
      "(1) Scan parquet default.bucketed_fact_leadouts_5_buckets\n",
      "Output [5]: [cookie_value#609, category_id#610, product_id#611, date_utc#656, hour#657]\n",
      "Batched: true\n",
      "Location: InMemoryFileIndex [s3://die-stg-733963962829-eu-central-1/linh_thesis/bucketed_fact_leadouts_5_buckets/date_utc=2021-12-01/hour=3, ... 167 entries]\n",
      "PartitionFilters: [isnotnull(date_utc#656), (date_utc#656 >= 18962), (date_utc#656 <= 18968)]\n",
      "PushedFilters: [IsNotNull(cookie_value)]\n",
      "ReadSchema: struct<cookie_value:string,category_id:string,product_id:string>\n",
      "SelectedBucketsCount: 5 out of 5\n",
      "\n",
      "(2) Filter\n",
      "Input [5]: [cookie_value#609, category_id#610, product_id#611, date_utc#656, hour#657]\n",
      "Condition : (isnotnull(cookie_value#609) AND bloomfilter#1176 of [bf1176 cookie_value#557 estimatedNumRows=51131] filtering [cookie_value#609])\n",
      "\n",
      "(3) Project\n",
      "Output [4]: [cookie_value#609, category_id#610, product_id#611, date_utc#656]\n",
      "Input [5]: [cookie_value#609, category_id#610, product_id#611, date_utc#656, hour#657]\n",
      "\n",
      "(4) Sort\n",
      "Input [4]: [cookie_value#609, category_id#610, product_id#611, date_utc#656]\n",
      "Arguments: [cookie_value#609 ASC NULLS FIRST], false, 0\n",
      "\n",
      "(5) Scan parquet default.bucketed_fact_dk_earnings\n",
      "Output [3]: [cookie_value#557, date_utc#575, hour#576]\n",
      "Batched: true\n",
      "Location: InMemoryFileIndex [s3://die-stg-733963962829-eu-central-1/linh_thesis/bucketed_fact_dk_earnings/date_utc=2021-12-01/hour=16, ... 167 entries]\n",
      "PartitionFilters: [isnotnull(date_utc#575), (date_utc#575 >= 18962), (date_utc#575 <= 18968)]\n",
      "PushedFilters: [IsNotNull(cookie_value)]\n",
      "ReadSchema: struct<cookie_value:string>\n",
      "\n",
      "(6) Filter\n",
      "Input [3]: [cookie_value#557, date_utc#575, hour#576]\n",
      "Condition : isnotnull(cookie_value#557)\n",
      "\n",
      "(7) Project\n",
      "Output [1]: [cookie_value#557]\n",
      "Input [3]: [cookie_value#557, date_utc#575, hour#576]\n",
      "\n",
      "(8) Exchange\n",
      "Input [1]: [cookie_value#557]\n",
      "Arguments: hashpartitioning(cookie_value#557, 5), ENSURE_REQUIREMENTS, [id=#1598]\n",
      "\n",
      "(9) Sort\n",
      "Input [1]: [cookie_value#557]\n",
      "Arguments: [cookie_value#557 ASC NULLS FIRST], false, 0\n",
      "\n",
      "(10) SortMergeJoin\n",
      "Left keys [1]: [cookie_value#609]\n",
      "Right keys [1]: [cookie_value#557]\n",
      "Join condition: None\n",
      "\n",
      "(11) Project\n",
      "Output [3]: [product_id#611, category_id#610, date_utc#656]\n",
      "Input [5]: [cookie_value#609, category_id#610, product_id#611, date_utc#656, cookie_value#557]\n",
      "\n",
      "(12) AdaptiveSparkPlan\n",
      "Output [3]: [product_id#611, category_id#610, date_utc#656]\n",
      "Arguments: isFinalPlan=false\n",
      "\n",
      "===== Subqueries =====\n",
      "\n",
      "Subquery:1 Hosting operator id = 2 Hosting Expression = bloomfilter#1176 of [bf1176 cookie_value#557 estimatedNumRows=51131] filtering [cookie_value#609]\n",
      "OutputAdapter (18)\n",
      "+- AdaptiveSparkPlan (17)\n",
      "   +- Exchange (16)\n",
      "      +- Project (15)\n",
      "         +- Filter (14)\n",
      "            +- Scan parquet default.bucketed_fact_dk_earnings (13)\n",
      "\n",
      "\n",
      "(13) Scan parquet default.bucketed_fact_dk_earnings\n",
      "Output [3]: [cookie_value#557, date_utc#575, hour#576]\n",
      "Batched: true\n",
      "Location: InMemoryFileIndex [s3://die-stg-733963962829-eu-central-1/linh_thesis/bucketed_fact_dk_earnings/date_utc=2021-12-01/hour=16, ... 167 entries]\n",
      "PartitionFilters: [isnotnull(date_utc#575), (date_utc#575 >= 18962), (date_utc#575 <= 18968)]\n",
      "PushedFilters: [IsNotNull(cookie_value)]\n",
      "ReadSchema: struct<cookie_value:string>\n",
      "\n",
      "(14) Filter\n",
      "Input [3]: [cookie_value#557, date_utc#575, hour#576]\n",
      "Condition : isnotnull(cookie_value#557)\n",
      "\n",
      "(15) Project\n",
      "Output [1]: [cookie_value#557]\n",
      "Input [3]: [cookie_value#557, date_utc#575, hour#576]\n",
      "\n",
      "(16) Exchange\n",
      "Input [1]: [cookie_value#557]\n",
      "Arguments: hashpartitioning(cookie_value#557, 5), ENSURE_REQUIREMENTS, [id=#1615]\n",
      "\n",
      "(17) AdaptiveSparkPlan\n",
      "Output [1]: [cookie_value#557]\n",
      "Arguments: isFinalPlan=false\n",
      "\n",
      "(18) OutputAdapter\n",
      "Output [1]: [cookie_value#557]"
     ]
    }
   ],
   "source": [
    "query4.explain(mode=\"formatted\")"
   ]
  },
  {
   "cell_type": "markdown",
   "id": "2ff83f69",
   "metadata": {
    "scrolled": true
   },
   "source": [
    "### c) Join two bucketed tables with the same number of buckets on the bucketed key"
   ]
  },
  {
   "cell_type": "code",
   "execution_count": 34,
   "id": "46840167",
   "metadata": {},
   "outputs": [
    {
     "data": {
      "application/vnd.jupyter.widget-view+json": {
       "model_id": "",
       "version_major": 2,
       "version_minor": 0
      },
      "text/plain": [
       "FloatProgress(value=0.0, bar_style='info', description='Progress:', layout=Layout(height='25px', width='50%'),…"
      ]
     },
     "metadata": {},
     "output_type": "display_data"
    }
   ],
   "source": [
    "query5 = spark.sql(\"SELECT t1.product_id, t1.category_id, t1.date_utc\\\n",
    "           FROM  bucketed_fact_leadouts t1 join bucketed_fact_dk_earnings t2 \\\n",
    "           ON t1.cookie_value = t2.cookie_value \\\n",
    "           WHERE t1.date_utc BETWEEN date('2021-12-01') AND date('2021-12-07') \\\n",
    "           and t2.date_utc BETWEEN date('2021-12-01') AND date('2021-12-07')\")"
   ]
  },
  {
   "cell_type": "code",
   "execution_count": 35,
   "id": "7ddd5d34",
   "metadata": {},
   "outputs": [
    {
     "data": {
      "application/vnd.jupyter.widget-view+json": {
       "model_id": "",
       "version_major": 2,
       "version_minor": 0
      },
      "text/plain": [
       "FloatProgress(value=0.0, bar_style='info', description='Progress:', layout=Layout(height='25px', width='50%'),…"
      ]
     },
     "metadata": {},
     "output_type": "display_data"
    },
    {
     "name": "stdout",
     "output_type": "stream",
     "text": [
      "+----------+-----------+----------+\n",
      "|product_id|category_id|  date_utc|\n",
      "+----------+-----------+----------+\n",
      "|   6795386|       2461|2021-12-02|\n",
      "| 201581052|       4734|2021-12-06|\n",
      "| 201581052|       4734|2021-12-06|\n",
      "| 201581052|       4734|2021-12-06|\n",
      "| 201617428|      25496|2021-12-06|\n",
      "| 201617428|      25496|2021-12-06|\n",
      "| 201617428|      25496|2021-12-06|\n",
      "| 201617428|      25496|2021-12-06|\n",
      "| 200349202|      15555|2021-12-05|\n",
      "| 200349202|      15555|2021-12-05|\n",
      "| 200349202|      15555|2021-12-05|\n",
      "| 200349202|      15555|2021-12-05|\n",
      "| 200757450|       2021|2021-12-04|\n",
      "| 200757450|       2021|2021-12-04|\n",
      "|   3476667|       9552|2021-12-04|\n",
      "|   3476667|       9552|2021-12-04|\n",
      "| 200949094|      12892|2021-12-04|\n",
      "| 200949094|      12892|2021-12-04|\n",
      "| 201134383|      19144|2021-12-04|\n",
      "| 201134383|      19144|2021-12-04|\n",
      "+----------+-----------+----------+\n",
      "only showing top 20 rows"
     ]
    }
   ],
   "source": [
    "query5.show()"
   ]
  },
  {
   "cell_type": "code",
   "execution_count": 36,
   "id": "2be437c2",
   "metadata": {},
   "outputs": [
    {
     "data": {
      "application/vnd.jupyter.widget-view+json": {
       "model_id": "",
       "version_major": 2,
       "version_minor": 0
      },
      "text/plain": [
       "FloatProgress(value=0.0, bar_style='info', description='Progress:', layout=Layout(height='25px', width='50%'),…"
      ]
     },
     "metadata": {},
     "output_type": "display_data"
    },
    {
     "name": "stdout",
     "output_type": "stream",
     "text": [
      "== Physical Plan ==\n",
      "AdaptiveSparkPlan (11)\n",
      "+- Project (10)\n",
      "   +- SortMergeJoin Inner (9)\n",
      "      :- Sort (4)\n",
      "      :  +- Project (3)\n",
      "      :     +- Filter (2)\n",
      "      :        +- Scan parquet default.bucketed_fact_leadouts (1)\n",
      "      +- Sort (8)\n",
      "         +- Project (7)\n",
      "            +- Filter (6)\n",
      "               +- Scan parquet default.bucketed_fact_dk_earnings (5)\n",
      "\n",
      "\n",
      "(1) Scan parquet default.bucketed_fact_leadouts\n",
      "Output [5]: [cookie_value#447, category_id#448, product_id#449, date_utc#494, hour#495]\n",
      "Batched: true\n",
      "Location: InMemoryFileIndex [s3://die-stg-733963962829-eu-central-1/linh_thesis/bucketed_fact_leadouts/date_utc=2021-12-02/hour=14, ... 167 entries]\n",
      "PartitionFilters: [isnotnull(date_utc#494), (date_utc#494 >= 18962), (date_utc#494 <= 18968)]\n",
      "PushedFilters: [IsNotNull(cookie_value)]\n",
      "ReadSchema: struct<cookie_value:string,category_id:string,product_id:string>\n",
      "SelectedBucketsCount: 4 out of 4\n",
      "\n",
      "(2) Filter\n",
      "Input [5]: [cookie_value#447, category_id#448, product_id#449, date_utc#494, hour#495]\n",
      "Condition : (isnotnull(cookie_value#447) AND true)\n",
      "\n",
      "(3) Project\n",
      "Output [4]: [cookie_value#447, category_id#448, product_id#449, date_utc#494]\n",
      "Input [5]: [cookie_value#447, category_id#448, product_id#449, date_utc#494, hour#495]\n",
      "\n",
      "(4) Sort\n",
      "Input [4]: [cookie_value#447, category_id#448, product_id#449, date_utc#494]\n",
      "Arguments: [cookie_value#447 ASC NULLS FIRST], false, 0\n",
      "\n",
      "(5) Scan parquet default.bucketed_fact_dk_earnings\n",
      "Output [3]: [cookie_value#557, date_utc#575, hour#576]\n",
      "Batched: true\n",
      "Location: InMemoryFileIndex [s3://die-stg-733963962829-eu-central-1/linh_thesis/bucketed_fact_dk_earnings/date_utc=2021-12-01/hour=16, ... 167 entries]\n",
      "PartitionFilters: [isnotnull(date_utc#575), (date_utc#575 >= 18962), (date_utc#575 <= 18968)]\n",
      "PushedFilters: [IsNotNull(cookie_value)]\n",
      "ReadSchema: struct<cookie_value:string>\n",
      "SelectedBucketsCount: 4 out of 4\n",
      "\n",
      "(6) Filter\n",
      "Input [3]: [cookie_value#557, date_utc#575, hour#576]\n",
      "Condition : isnotnull(cookie_value#557)\n",
      "\n",
      "(7) Project\n",
      "Output [1]: [cookie_value#557]\n",
      "Input [3]: [cookie_value#557, date_utc#575, hour#576]\n",
      "\n",
      "(8) Sort\n",
      "Input [1]: [cookie_value#557]\n",
      "Arguments: [cookie_value#557 ASC NULLS FIRST], false, 0\n",
      "\n",
      "(9) SortMergeJoin\n",
      "Left keys [1]: [cookie_value#447]\n",
      "Right keys [1]: [cookie_value#557]\n",
      "Join condition: None\n",
      "\n",
      "(10) Project\n",
      "Output [3]: [product_id#449, category_id#448, date_utc#494]\n",
      "Input [5]: [cookie_value#447, category_id#448, product_id#449, date_utc#494, cookie_value#557]\n",
      "\n",
      "(11) AdaptiveSparkPlan\n",
      "Output [3]: [product_id#449, category_id#448, date_utc#494]\n",
      "Arguments: isFinalPlan=false"
     ]
    }
   ],
   "source": [
    "query5.explain(mode=\"formatted\")"
   ]
  },
  {
   "cell_type": "markdown",
   "id": "4e81b097",
   "metadata": {},
   "source": [
    "### d) Join two bucketed tables with the same number of buckets and bucket key but not on the bucket key"
   ]
  },
  {
   "cell_type": "code",
   "execution_count": 37,
   "id": "79d32675",
   "metadata": {},
   "outputs": [
    {
     "data": {
      "application/vnd.jupyter.widget-view+json": {
       "model_id": "",
       "version_major": 2,
       "version_minor": 0
      },
      "text/plain": [
       "FloatProgress(value=0.0, bar_style='info', description='Progress:', layout=Layout(height='25px', width='50%'),…"
      ]
     },
     "metadata": {},
     "output_type": "display_data"
    }
   ],
   "source": [
    "query6 = spark.sql(\"SELECT t1.product_id, t1.category_id, t1.date_utc\\\n",
    "           FROM  bucketed_fact_leadouts t1 join bucketed_fact_dk_earnings t2 \\\n",
    "           ON t1.leadout_click_bokey = t2.leadout_click_bokey \\\n",
    "           WHERE t1.date_utc BETWEEN date('2021-12-01') AND date('2021-12-07') \\\n",
    "           and t2.date_utc BETWEEN date('2021-12-01') AND date('2021-12-07')\")"
   ]
  },
  {
   "cell_type": "code",
   "execution_count": 38,
   "id": "fa17da1a",
   "metadata": {},
   "outputs": [
    {
     "data": {
      "application/vnd.jupyter.widget-view+json": {
       "model_id": "",
       "version_major": 2,
       "version_minor": 0
      },
      "text/plain": [
       "FloatProgress(value=0.0, bar_style='info', description='Progress:', layout=Layout(height='25px', width='50%'),…"
      ]
     },
     "metadata": {},
     "output_type": "display_data"
    },
    {
     "name": "stdout",
     "output_type": "stream",
     "text": [
      "+----------+-----------+----------+\n",
      "|product_id|category_id|  date_utc|\n",
      "+----------+-----------+----------+\n",
      "|   6826083|       2021|2021-12-05|\n",
      "| 201130660|       1941|2021-12-05|\n",
      "| 200521858|       5414|2021-12-05|\n",
      "| 201682626|      30990|2021-12-03|\n",
      "|   6568620|       3309|2021-12-03|\n",
      "|   4791210|       3750|2021-12-07|\n",
      "| 200578608|      32482|2021-12-07|\n",
      "|    589125|       3972|2021-12-03|\n",
      "|   5006663|      22699|2021-12-03|\n",
      "| 201383628|      32530|2021-12-01|\n",
      "|   3041390|       7174|2021-12-02|\n",
      "|   6864854|      19116|2021-12-03|\n",
      "|   5031158|      27733|2021-12-07|\n",
      "| 200741011|       7734|2021-12-01|\n",
      "| 200612395|       3747|2021-12-06|\n",
      "|   1159285|      18423|2021-12-02|\n",
      "|   1159285|      18423|2021-12-02|\n",
      "| 201264818|       3751|2021-12-06|\n",
      "|   6181718|      10832|2021-12-01|\n",
      "| 201392308|      22506|2021-12-05|\n",
      "+----------+-----------+----------+\n",
      "only showing top 20 rows"
     ]
    }
   ],
   "source": [
    "query6.show()"
   ]
  },
  {
   "cell_type": "code",
   "execution_count": 39,
   "id": "d6b573f7",
   "metadata": {},
   "outputs": [
    {
     "data": {
      "application/vnd.jupyter.widget-view+json": {
       "model_id": "",
       "version_major": 2,
       "version_minor": 0
      },
      "text/plain": [
       "FloatProgress(value=0.0, bar_style='info', description='Progress:', layout=Layout(height='25px', width='50%'),…"
      ]
     },
     "metadata": {},
     "output_type": "display_data"
    },
    {
     "name": "stdout",
     "output_type": "stream",
     "text": [
      "== Physical Plan ==\n",
      "AdaptiveSparkPlan (13)\n",
      "+- Project (12)\n",
      "   +- SortMergeJoin Inner (11)\n",
      "      :- Sort (5)\n",
      "      :  +- Exchange (4)\n",
      "      :     +- Project (3)\n",
      "      :        +- Filter (2)\n",
      "      :           +- Scan parquet default.bucketed_fact_leadouts (1)\n",
      "      +- Sort (10)\n",
      "         +- Exchange (9)\n",
      "            +- Project (8)\n",
      "               +- Filter (7)\n",
      "                  +- Scan parquet default.bucketed_fact_dk_earnings (6)\n",
      "\n",
      "\n",
      "(1) Scan parquet default.bucketed_fact_leadouts\n",
      "Output [5]: [category_id#448, product_id#449, leadout_click_bokey#467, date_utc#494, hour#495]\n",
      "Batched: true\n",
      "Location: InMemoryFileIndex [s3://die-stg-733963962829-eu-central-1/linh_thesis/bucketed_fact_leadouts/date_utc=2021-12-02/hour=14, ... 167 entries]\n",
      "PartitionFilters: [isnotnull(date_utc#494), (date_utc#494 >= 18962), (date_utc#494 <= 18968)]\n",
      "PushedFilters: [IsNotNull(leadout_click_bokey)]\n",
      "ReadSchema: struct<category_id:string,product_id:string,leadout_click_bokey:string>\n",
      "\n",
      "(2) Filter\n",
      "Input [5]: [category_id#448, product_id#449, leadout_click_bokey#467, date_utc#494, hour#495]\n",
      "Condition : (isnotnull(leadout_click_bokey#467) AND bloomfilter#1212 of [bf1212 leadout_click_bokey#572 estimatedNumRows=51131] filtering [leadout_click_bokey#467])\n",
      "\n",
      "(3) Project\n",
      "Output [4]: [category_id#448, product_id#449, leadout_click_bokey#467, date_utc#494]\n",
      "Input [5]: [category_id#448, product_id#449, leadout_click_bokey#467, date_utc#494, hour#495]\n",
      "\n",
      "(4) Exchange\n",
      "Input [4]: [category_id#448, product_id#449, leadout_click_bokey#467, date_utc#494]\n",
      "Arguments: hashpartitioning(leadout_click_bokey#467, 1000), ENSURE_REQUIREMENTS, [id=#2109]\n",
      "\n",
      "(5) Sort\n",
      "Input [4]: [category_id#448, product_id#449, leadout_click_bokey#467, date_utc#494]\n",
      "Arguments: [leadout_click_bokey#467 ASC NULLS FIRST], false, 0\n",
      "\n",
      "(6) Scan parquet default.bucketed_fact_dk_earnings\n",
      "Output [3]: [leadout_click_bokey#572, date_utc#575, hour#576]\n",
      "Batched: true\n",
      "Location: InMemoryFileIndex [s3://die-stg-733963962829-eu-central-1/linh_thesis/bucketed_fact_dk_earnings/date_utc=2021-12-01/hour=16, ... 167 entries]\n",
      "PartitionFilters: [isnotnull(date_utc#575), (date_utc#575 >= 18962), (date_utc#575 <= 18968)]\n",
      "PushedFilters: [IsNotNull(leadout_click_bokey)]\n",
      "ReadSchema: struct<leadout_click_bokey:string>\n",
      "\n",
      "(7) Filter\n",
      "Input [3]: [leadout_click_bokey#572, date_utc#575, hour#576]\n",
      "Condition : isnotnull(leadout_click_bokey#572)\n",
      "\n",
      "(8) Project\n",
      "Output [1]: [leadout_click_bokey#572]\n",
      "Input [3]: [leadout_click_bokey#572, date_utc#575, hour#576]\n",
      "\n",
      "(9) Exchange\n",
      "Input [1]: [leadout_click_bokey#572]\n",
      "Arguments: hashpartitioning(leadout_click_bokey#572, 1000), ENSURE_REQUIREMENTS, [id=#2079]\n",
      "\n",
      "(10) Sort\n",
      "Input [1]: [leadout_click_bokey#572]\n",
      "Arguments: [leadout_click_bokey#572 ASC NULLS FIRST], false, 0\n",
      "\n",
      "(11) SortMergeJoin\n",
      "Left keys [1]: [leadout_click_bokey#467]\n",
      "Right keys [1]: [leadout_click_bokey#572]\n",
      "Join condition: None\n",
      "\n",
      "(12) Project\n",
      "Output [3]: [product_id#449, category_id#448, date_utc#494]\n",
      "Input [5]: [category_id#448, product_id#449, leadout_click_bokey#467, date_utc#494, leadout_click_bokey#572]\n",
      "\n",
      "(13) AdaptiveSparkPlan\n",
      "Output [3]: [product_id#449, category_id#448, date_utc#494]\n",
      "Arguments: isFinalPlan=false\n",
      "\n",
      "===== Subqueries =====\n",
      "\n",
      "Subquery:1 Hosting operator id = 2 Hosting Expression = bloomfilter#1212 of [bf1212 leadout_click_bokey#572 estimatedNumRows=51131] filtering [leadout_click_bokey#467]\n",
      "OutputAdapter (19)\n",
      "+- AdaptiveSparkPlan (18)\n",
      "   +- Exchange (17)\n",
      "      +- Project (16)\n",
      "         +- Filter (15)\n",
      "            +- Scan parquet default.bucketed_fact_dk_earnings (14)\n",
      "\n",
      "\n",
      "(14) Scan parquet default.bucketed_fact_dk_earnings\n",
      "Output [3]: [leadout_click_bokey#572, date_utc#575, hour#576]\n",
      "Batched: true\n",
      "Location: InMemoryFileIndex [s3://die-stg-733963962829-eu-central-1/linh_thesis/bucketed_fact_dk_earnings/date_utc=2021-12-01/hour=16, ... 167 entries]\n",
      "PartitionFilters: [isnotnull(date_utc#575), (date_utc#575 >= 18962), (date_utc#575 <= 18968)]\n",
      "PushedFilters: [IsNotNull(leadout_click_bokey)]\n",
      "ReadSchema: struct<leadout_click_bokey:string>\n",
      "\n",
      "(15) Filter\n",
      "Input [3]: [leadout_click_bokey#572, date_utc#575, hour#576]\n",
      "Condition : isnotnull(leadout_click_bokey#572)\n",
      "\n",
      "(16) Project\n",
      "Output [1]: [leadout_click_bokey#572]\n",
      "Input [3]: [leadout_click_bokey#572, date_utc#575, hour#576]\n",
      "\n",
      "(17) Exchange\n",
      "Input [1]: [leadout_click_bokey#572]\n",
      "Arguments: hashpartitioning(leadout_click_bokey#572, 1000), ENSURE_REQUIREMENTS, [id=#2103]\n",
      "\n",
      "(18) AdaptiveSparkPlan\n",
      "Output [1]: [leadout_click_bokey#572]\n",
      "Arguments: isFinalPlan=false\n",
      "\n",
      "(19) OutputAdapter\n",
      "Output [1]: [leadout_click_bokey#572]"
     ]
    }
   ],
   "source": [
    "query6.explain(mode=\"formatted\")"
   ]
  },
  {
   "cell_type": "markdown",
   "id": "af567446",
   "metadata": {},
   "source": [
    "### e) Join two bucketed tables, which are bucketed with different bucket key\n"
   ]
  },
  {
   "cell_type": "code",
   "execution_count": 40,
   "id": "0acab107",
   "metadata": {},
   "outputs": [
    {
     "data": {
      "application/vnd.jupyter.widget-view+json": {
       "model_id": "",
       "version_major": 2,
       "version_minor": 0
      },
      "text/plain": [
       "FloatProgress(value=0.0, bar_style='info', description='Progress:', layout=Layout(height='25px', width='50%'),…"
      ]
     },
     "metadata": {},
     "output_type": "display_data"
    }
   ],
   "source": [
    "query7 = spark.sql(\"SELECT t1.product_id, t1.category_id, t1.date_utc\\\n",
    "           FROM  bucketed_fact_leadouts_msid t1 join bucketed_fact_dk_earnings t2 \\\n",
    "           ON t1.cookie_value = t2.cookie_value and t1.date_utc = t2.date_utc \\\n",
    "           WHERE t1.date_utc BETWEEN date('2021-12-01') AND date('2021-12-07') \\\n",
    "           and t2.date_utc BETWEEN date('2021-12-01') AND date('2021-12-07')\")"
   ]
  },
  {
   "cell_type": "code",
   "execution_count": 41,
   "id": "d4dbcb26",
   "metadata": {},
   "outputs": [
    {
     "data": {
      "application/vnd.jupyter.widget-view+json": {
       "model_id": "",
       "version_major": 2,
       "version_minor": 0
      },
      "text/plain": [
       "FloatProgress(value=0.0, bar_style='info', description='Progress:', layout=Layout(height='25px', width='50%'),…"
      ]
     },
     "metadata": {},
     "output_type": "display_data"
    },
    {
     "name": "stdout",
     "output_type": "stream",
     "text": [
      "+----------+-----------+----------+\n",
      "|product_id|category_id|  date_utc|\n",
      "+----------+-----------+----------+\n",
      "|   4896069|       1660|2021-12-04|\n",
      "| 200400482|       8694|2021-12-01|\n",
      "| 201657258|       2520|2021-12-01|\n",
      "| 201657258|       2520|2021-12-01|\n",
      "| 201657258|       2520|2021-12-01|\n",
      "| 200400482|       8694|2021-12-01|\n",
      "| 200927671|       2800|2021-12-04|\n",
      "| 200927671|       2800|2021-12-04|\n",
      "| 200927671|       2800|2021-12-04|\n",
      "| 200927671|       2800|2021-12-04|\n",
      "| 200927671|       2800|2021-12-04|\n",
      "| 200927671|       2800|2021-12-04|\n",
      "| 200927671|       2800|2021-12-04|\n",
      "| 200927671|       2800|2021-12-04|\n",
      "|   5211019|       9552|2021-12-01|\n",
      "|   5211019|       9552|2021-12-01|\n",
      "|   6961306|       9552|2021-12-01|\n",
      "|   5211019|       9552|2021-12-01|\n",
      "| 201660396|       6992|2021-12-01|\n",
      "| 201617686|       6073|2021-12-06|\n",
      "+----------+-----------+----------+\n",
      "only showing top 20 rows"
     ]
    }
   ],
   "source": [
    "query7.show()"
   ]
  },
  {
   "cell_type": "code",
   "execution_count": 42,
   "id": "34b4bdea",
   "metadata": {},
   "outputs": [
    {
     "data": {
      "application/vnd.jupyter.widget-view+json": {
       "model_id": "",
       "version_major": 2,
       "version_minor": 0
      },
      "text/plain": [
       "FloatProgress(value=0.0, bar_style='info', description='Progress:', layout=Layout(height='25px', width='50%'),…"
      ]
     },
     "metadata": {},
     "output_type": "display_data"
    },
    {
     "name": "stdout",
     "output_type": "stream",
     "text": [
      "== Physical Plan ==\n",
      "AdaptiveSparkPlan (13)\n",
      "+- Project (12)\n",
      "   +- SortMergeJoin Inner (11)\n",
      "      :- Sort (5)\n",
      "      :  +- Exchange (4)\n",
      "      :     +- Project (3)\n",
      "      :        +- Filter (2)\n",
      "      :           +- Scan parquet default.bucketed_fact_leadouts_msid (1)\n",
      "      +- Sort (10)\n",
      "         +- Exchange (9)\n",
      "            +- Project (8)\n",
      "               +- Filter (7)\n",
      "                  +- Scan parquet default.bucketed_fact_dk_earnings (6)\n",
      "\n",
      "\n",
      "(1) Scan parquet default.bucketed_fact_leadouts_msid\n",
      "Output [5]: [cookie_value#711, category_id#712, product_id#713, date_utc#758, hour#759]\n",
      "Batched: true\n",
      "Location: InMemoryFileIndex [s3://die-stg-733963962829-eu-central-1/linh_thesis/bucketed_fact_leadouts_msid/date_utc=2021-12-02/hour=10, ... 167 entries]\n",
      "PartitionFilters: [isnotnull(date_utc#758), (date_utc#758 >= 18962), (date_utc#758 <= 18968), dynamicpruningexpression(true)]\n",
      "PushedFilters: [IsNotNull(cookie_value)]\n",
      "ReadSchema: struct<cookie_value:string,category_id:string,product_id:string>\n",
      "\n",
      "(2) Filter\n",
      "Input [5]: [cookie_value#711, category_id#712, product_id#713, date_utc#758, hour#759]\n",
      "Condition : isnotnull(cookie_value#711)\n",
      "\n",
      "(3) Project\n",
      "Output [4]: [cookie_value#711, category_id#712, product_id#713, date_utc#758]\n",
      "Input [5]: [cookie_value#711, category_id#712, product_id#713, date_utc#758, hour#759]\n",
      "\n",
      "(4) Exchange\n",
      "Input [4]: [cookie_value#711, category_id#712, product_id#713, date_utc#758]\n",
      "Arguments: hashpartitioning(cookie_value#711, date_utc#758, 1000), ENSURE_REQUIREMENTS, [id=#2417]\n",
      "\n",
      "(5) Sort\n",
      "Input [4]: [cookie_value#711, category_id#712, product_id#713, date_utc#758]\n",
      "Arguments: [cookie_value#711 ASC NULLS FIRST, date_utc#758 ASC NULLS FIRST], false, 0\n",
      "\n",
      "(6) Scan parquet default.bucketed_fact_dk_earnings\n",
      "Output [3]: [cookie_value#557, date_utc#575, hour#576]\n",
      "Batched: true\n",
      "Location: InMemoryFileIndex [s3://die-stg-733963962829-eu-central-1/linh_thesis/bucketed_fact_dk_earnings/date_utc=2021-12-01/hour=16, ... 167 entries]\n",
      "PartitionFilters: [isnotnull(date_utc#575), (date_utc#575 >= 18962), (date_utc#575 <= 18968)]\n",
      "PushedFilters: [IsNotNull(cookie_value)]\n",
      "ReadSchema: struct<cookie_value:string>\n",
      "\n",
      "(7) Filter\n",
      "Input [3]: [cookie_value#557, date_utc#575, hour#576]\n",
      "Condition : isnotnull(cookie_value#557)\n",
      "\n",
      "(8) Project\n",
      "Output [2]: [cookie_value#557, date_utc#575]\n",
      "Input [3]: [cookie_value#557, date_utc#575, hour#576]\n",
      "\n",
      "(9) Exchange\n",
      "Input [2]: [cookie_value#557, date_utc#575]\n",
      "Arguments: hashpartitioning(cookie_value#557, date_utc#575, 1000), ENSURE_REQUIREMENTS, [id=#2404]\n",
      "\n",
      "(10) Sort\n",
      "Input [2]: [cookie_value#557, date_utc#575]\n",
      "Arguments: [cookie_value#557 ASC NULLS FIRST, date_utc#575 ASC NULLS FIRST], false, 0\n",
      "\n",
      "(11) SortMergeJoin\n",
      "Left keys [2]: [cookie_value#711, date_utc#758]\n",
      "Right keys [2]: [cookie_value#557, date_utc#575]\n",
      "Join condition: None\n",
      "\n",
      "(12) Project\n",
      "Output [3]: [product_id#713, category_id#712, date_utc#758]\n",
      "Input [6]: [cookie_value#711, category_id#712, product_id#713, date_utc#758, cookie_value#557, date_utc#575]\n",
      "\n",
      "(13) AdaptiveSparkPlan\n",
      "Output [3]: [product_id#713, category_id#712, date_utc#758]\n",
      "Arguments: isFinalPlan=false"
     ]
    }
   ],
   "source": [
    "query7.explain(mode=\"formatted\")"
   ]
  },
  {
   "cell_type": "markdown",
   "id": "fedb0bb0",
   "metadata": {},
   "source": [
    "### f) Group-by query"
   ]
  },
  {
   "cell_type": "code",
   "execution_count": 43,
   "id": "30d971a7",
   "metadata": {},
   "outputs": [
    {
     "data": {
      "application/vnd.jupyter.widget-view+json": {
       "model_id": "",
       "version_major": 2,
       "version_minor": 0
      },
      "text/plain": [
       "FloatProgress(value=0.0, bar_style='info', description='Progress:', layout=Layout(height='25px', width='50%'),…"
      ]
     },
     "metadata": {},
     "output_type": "display_data"
    }
   ],
   "source": [
    "query8 = spark.sql(\"SELECT cookie_value, count(leadout_click_bokey) as bokey_count \\\n",
    "                    FROM fact_dk_earnings_original \\\n",
    "                    WHERE date_utc BETWEEN date('2021-12-01') AND date('2021-12-07') \\\n",
    "                    GROUP BY cookie_value \\\n",
    "                    ORDER BY bokey_count desc\")"
   ]
  },
  {
   "cell_type": "code",
   "execution_count": 44,
   "id": "81952ca8",
   "metadata": {},
   "outputs": [
    {
     "data": {
      "application/vnd.jupyter.widget-view+json": {
       "model_id": "",
       "version_major": 2,
       "version_minor": 0
      },
      "text/plain": [
       "FloatProgress(value=0.0, bar_style='info', description='Progress:', layout=Layout(height='25px', width='50%'),…"
      ]
     },
     "metadata": {},
     "output_type": "display_data"
    },
    {
     "name": "stdout",
     "output_type": "stream",
     "text": [
      "+------------------+-----------+\n",
      "|      cookie_value|bokey_count|\n",
      "+------------------+-----------+\n",
      "|016a9lf500kvjeuyv7|         58|\n",
      "|01o2l67300kk8rmt5b|         50|\n",
      "|01ujv9qe00kji9jf6q|         34|\n",
      "|  5075c9804df31f78|         34|\n",
      "|01ycw8z500kjwt2m3d|         28|\n",
      "|01xflwwn00kwgl7c1a|         24|\n",
      "|01fidcpp00kwdb3jge|         24|\n",
      "|017dc0ev00k4i8cjzu|         22|\n",
      "|016dffnw00kjkbid7z|         22|\n",
      "|01mc4d6t00kj7qyos1|         21|\n",
      "|01fxf1i200kocg0fld|         21|\n",
      "|01inmd5k00kdr0pu54|         21|\n",
      "|01pt893200klgdbfxu|         19|\n",
      "|01u92sb32xkwqgcb9x|         17|\n",
      "|0183igr300kwdffh4p|         16|\n",
      "|01kh0h0500jlb0aqxu|         16|\n",
      "|018u8c0a00kwn5v53b|         16|\n",
      "|01tk5y3m00kwnc19rh|         15|\n",
      "|01fuysrx00k8f1tltu|         14|\n",
      "|01xy0h0300jr0tb0ab|         14|\n",
      "+------------------+-----------+\n",
      "only showing top 20 rows"
     ]
    }
   ],
   "source": [
    "query8.show()"
   ]
  },
  {
   "cell_type": "code",
   "execution_count": 45,
   "id": "2fc3f9f1",
   "metadata": {},
   "outputs": [
    {
     "data": {
      "application/vnd.jupyter.widget-view+json": {
       "model_id": "",
       "version_major": 2,
       "version_minor": 0
      },
      "text/plain": [
       "FloatProgress(value=0.0, bar_style='info', description='Progress:', layout=Layout(height='25px', width='50%'),…"
      ]
     },
     "metadata": {},
     "output_type": "display_data"
    },
    {
     "name": "stdout",
     "output_type": "stream",
     "text": [
      "== Physical Plan ==\n",
      "AdaptiveSparkPlan (8)\n",
      "+- Sort (7)\n",
      "   +- Exchange (6)\n",
      "      +- HashAggregate (5)\n",
      "         +- Exchange (4)\n",
      "            +- HashAggregate (3)\n",
      "               +- Project (2)\n",
      "                  +- Scan parquet  (1)\n",
      "\n",
      "\n",
      "(1) Scan parquet \n",
      "Output [4]: [cookie_value#10, leadout_click_bokey#25, date_utc#28, hour#29]\n",
      "Batched: true\n",
      "Location: InMemoryFileIndex [s3://die-stg-733963962829-eu-central-1/linh_thesis/fact_dk_earnings]\n",
      "PartitionFilters: [isnotnull(date_utc#28), (date_utc#28 >= 18962), (date_utc#28 <= 18968)]\n",
      "ReadSchema: struct<cookie_value:string,leadout_click_bokey:string>\n",
      "\n",
      "(2) Project\n",
      "Output [2]: [cookie_value#10, leadout_click_bokey#25]\n",
      "Input [4]: [cookie_value#10, leadout_click_bokey#25, date_utc#28, hour#29]\n",
      "\n",
      "(3) HashAggregate\n",
      "Input [2]: [cookie_value#10, leadout_click_bokey#25]\n",
      "Keys [1]: [cookie_value#10]\n",
      "Functions [1]: [partial_count(leadout_click_bokey#25)]\n",
      "Aggregate Attributes [1]: [count#1242L]\n",
      "Results [2]: [cookie_value#10, count#1243L]\n",
      "\n",
      "(4) Exchange\n",
      "Input [2]: [cookie_value#10, count#1243L]\n",
      "Arguments: hashpartitioning(cookie_value#10, 1000), ENSURE_REQUIREMENTS, [id=#2513]\n",
      "\n",
      "(5) HashAggregate\n",
      "Input [2]: [cookie_value#10, count#1243L]\n",
      "Keys [1]: [cookie_value#10]\n",
      "Functions [1]: [count(leadout_click_bokey#25)]\n",
      "Aggregate Attributes [1]: [count(leadout_click_bokey#25)#1232L]\n",
      "Results [2]: [cookie_value#10, count(leadout_click_bokey#25)#1232L AS bokey_count#1231L]\n",
      "\n",
      "(6) Exchange\n",
      "Input [2]: [cookie_value#10, bokey_count#1231L]\n",
      "Arguments: rangepartitioning(bokey_count#1231L DESC NULLS LAST, 1000), ENSURE_REQUIREMENTS, [id=#2516]\n",
      "\n",
      "(7) Sort\n",
      "Input [2]: [cookie_value#10, bokey_count#1231L]\n",
      "Arguments: [bokey_count#1231L DESC NULLS LAST], true, 0\n",
      "\n",
      "(8) AdaptiveSparkPlan\n",
      "Output [2]: [cookie_value#10, bokey_count#1231L]\n",
      "Arguments: isFinalPlan=false"
     ]
    }
   ],
   "source": [
    "query8.explain(mode=\"formatted\")"
   ]
  },
  {
   "cell_type": "code",
   "execution_count": 46,
   "id": "984baaba",
   "metadata": {},
   "outputs": [
    {
     "data": {
      "application/vnd.jupyter.widget-view+json": {
       "model_id": "",
       "version_major": 2,
       "version_minor": 0
      },
      "text/plain": [
       "FloatProgress(value=0.0, bar_style='info', description='Progress:', layout=Layout(height='25px', width='50%'),…"
      ]
     },
     "metadata": {},
     "output_type": "display_data"
    }
   ],
   "source": [
    "query9 = spark.sql(\"SELECT cookie_value, count(leadout_click_bokey) as bokey_count \\\n",
    "                    FROM bucketed_fact_dk_earnings \\\n",
    "                    WHERE date_utc BETWEEN date('2021-12-01') AND date('2021-12-07') \\\n",
    "                    GROUP BY cookie_value \\\n",
    "                    ORDER BY bokey_count desc\")"
   ]
  },
  {
   "cell_type": "code",
   "execution_count": 47,
   "id": "6de406b2",
   "metadata": {},
   "outputs": [
    {
     "data": {
      "application/vnd.jupyter.widget-view+json": {
       "model_id": "",
       "version_major": 2,
       "version_minor": 0
      },
      "text/plain": [
       "FloatProgress(value=0.0, bar_style='info', description='Progress:', layout=Layout(height='25px', width='50%'),…"
      ]
     },
     "metadata": {},
     "output_type": "display_data"
    },
    {
     "name": "stdout",
     "output_type": "stream",
     "text": [
      "+------------------+-----------+\n",
      "|      cookie_value|bokey_count|\n",
      "+------------------+-----------+\n",
      "|016a9lf500kvjeuyv7|         58|\n",
      "|01o2l67300kk8rmt5b|         50|\n",
      "|01ujv9qe00kji9jf6q|         34|\n",
      "|  5075c9804df31f78|         34|\n",
      "|01ycw8z500kjwt2m3d|         29|\n",
      "|01xflwwn00kwgl7c1a|         24|\n",
      "|01fidcpp00kwdb3jge|         24|\n",
      "|016dffnw00kjkbid7z|         22|\n",
      "|017dc0ev00k4i8cjzu|         22|\n",
      "|01mc4d6t00kj7qyos1|         21|\n",
      "|01fxf1i200kocg0fld|         21|\n",
      "|01inmd5k00kdr0pu54|         21|\n",
      "|01pt893200klgdbfxu|         19|\n",
      "|01u92sb32xkwqgcb9x|         17|\n",
      "|01kh0h0500jlb0aqxu|         16|\n",
      "|0183igr300kwdffh4p|         16|\n",
      "|018u8c0a00kwn5v53b|         16|\n",
      "|01tk5y3m00kwnc19rh|         15|\n",
      "|01fuysrx00k8f1tltu|         14|\n",
      "|01xy0h0300jr0tb0ab|         14|\n",
      "+------------------+-----------+\n",
      "only showing top 20 rows"
     ]
    }
   ],
   "source": [
    "query9.show()"
   ]
  },
  {
   "cell_type": "code",
   "execution_count": 48,
   "id": "274be4e1",
   "metadata": {},
   "outputs": [
    {
     "data": {
      "application/vnd.jupyter.widget-view+json": {
       "model_id": "",
       "version_major": 2,
       "version_minor": 0
      },
      "text/plain": [
       "FloatProgress(value=0.0, bar_style='info', description='Progress:', layout=Layout(height='25px', width='50%'),…"
      ]
     },
     "metadata": {},
     "output_type": "display_data"
    },
    {
     "name": "stdout",
     "output_type": "stream",
     "text": [
      "== Physical Plan ==\n",
      "AdaptiveSparkPlan (7)\n",
      "+- Sort (6)\n",
      "   +- Exchange (5)\n",
      "      +- HashAggregate (4)\n",
      "         +- HashAggregate (3)\n",
      "            +- Project (2)\n",
      "               +- Scan parquet default.bucketed_fact_dk_earnings (1)\n",
      "\n",
      "\n",
      "(1) Scan parquet default.bucketed_fact_dk_earnings\n",
      "Output [4]: [cookie_value#557, leadout_click_bokey#572, date_utc#575, hour#576]\n",
      "Batched: true\n",
      "Location: InMemoryFileIndex [s3://die-stg-733963962829-eu-central-1/linh_thesis/bucketed_fact_dk_earnings/date_utc=2021-12-01/hour=16, ... 167 entries]\n",
      "PartitionFilters: [isnotnull(date_utc#575), (date_utc#575 >= 18962), (date_utc#575 <= 18968)]\n",
      "ReadSchema: struct<cookie_value:string,leadout_click_bokey:string>\n",
      "SelectedBucketsCount: 4 out of 4\n",
      "\n",
      "(2) Project\n",
      "Output [2]: [cookie_value#557, leadout_click_bokey#572]\n",
      "Input [4]: [cookie_value#557, leadout_click_bokey#572, date_utc#575, hour#576]\n",
      "\n",
      "(3) HashAggregate\n",
      "Input [2]: [cookie_value#557, leadout_click_bokey#572]\n",
      "Keys [1]: [cookie_value#557]\n",
      "Functions [1]: [partial_count(leadout_click_bokey#572)]\n",
      "Aggregate Attributes [1]: [count#1263L]\n",
      "Results [2]: [cookie_value#557, count#1264L]\n",
      "\n",
      "(4) HashAggregate\n",
      "Input [2]: [cookie_value#557, count#1264L]\n",
      "Keys [1]: [cookie_value#557]\n",
      "Functions [1]: [count(leadout_click_bokey#572)]\n",
      "Aggregate Attributes [1]: [count(leadout_click_bokey#572)#1253L]\n",
      "Results [2]: [cookie_value#557, count(leadout_click_bokey#572)#1253L AS bokey_count#1252L]\n",
      "\n",
      "(5) Exchange\n",
      "Input [2]: [cookie_value#557, bokey_count#1252L]\n",
      "Arguments: rangepartitioning(bokey_count#1252L DESC NULLS LAST, 1000), ENSURE_REQUIREMENTS, [id=#2574]\n",
      "\n",
      "(6) Sort\n",
      "Input [2]: [cookie_value#557, bokey_count#1252L]\n",
      "Arguments: [bokey_count#1252L DESC NULLS LAST], true, 0\n",
      "\n",
      "(7) AdaptiveSparkPlan\n",
      "Output [2]: [cookie_value#557, bokey_count#1252L]\n",
      "Arguments: isFinalPlan=false"
     ]
    }
   ],
   "source": [
    "query9.explain(mode=\"formatted\")"
   ]
  },
  {
   "cell_type": "code",
   "execution_count": null,
   "id": "4107f58f",
   "metadata": {},
   "outputs": [],
   "source": []
  },
  {
   "cell_type": "code",
   "execution_count": null,
   "id": "396bdc21",
   "metadata": {},
   "outputs": [],
   "source": []
  }
 ],
 "metadata": {
  "kernelspec": {
   "display_name": "PySpark",
   "language": "python",
   "name": "pysparkkernel"
  },
  "language_info": {
   "codemirror_mode": {
    "name": "python",
    "version": 3
   },
   "file_extension": ".py",
   "mimetype": "text/x-python",
   "name": "pyspark",
   "pygments_lexer": "python3"
  }
 },
 "nbformat": 4,
 "nbformat_minor": 5
}
